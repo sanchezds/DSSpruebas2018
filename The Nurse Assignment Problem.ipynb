{
    "nbformat_minor": 1, 
    "cells": [
        {
            "source": "<div style=\"background:#F5F7FA; height:100px; padding: 2em; font-size:14px;\">\n<span style=\"font-size:18px;color:#152935;\">Want to do more?</span><span style=\"border: 1px solid #3d70b2;padding: 15px;float:right;margin-right:40px; color:#3d70b2; \"><a href=\"https://ibm.co/wsnotebooks\" target=\"_blank\" style=\"color: #3d70b2;text-decoration: none;\">Sign Up</a></span><br>\n<span style=\"color:#5A6872;\"> Try out this notebook with your free trial of IBM Watson Studio.</span>\n</div>", 
            "cell_type": "markdown", 
            "metadata": {}
        }, 
        {
            "source": "# The Nurse Assignment Problem\n\nThis tutorial includes everything you need to set up IBM Decision Optimization CPLEX Modeling for Python (DOcplex), build a Mathematical Programming model, and get its solution by solving the model on the cloud with IBM ILOG CPLEX Optimizer.\n\nWhen you finish this tutorial, you'll have a foundational knowledge of _Prescriptive Analytics_.\n\n>This notebook is part of <a href=\"https://rawgit.com/IBMDecisionOptimization/docplex-doc/master/docs/index.html\" target=\"_blank\" rel=\"noopener noreferrer\">Prescriptive Analytics for Python</a>.\n\n>It requires a valid subscription to **Decision Optimization on Cloud**. Try it for free <a href=\"https://developer.ibm.com/docloud\" target=\"_blank\" rel=\"noopener noreferrer\">here</a>.\n\nThis notebook runs on Python 2 with Spark 2.1.\n\nTable of contents:\n\n-  [Describe the business problem](#Describe-the-business-problem)\n*  [How decision optimization (prescriptive analytics) can help](#How--decision-optimization-can-help)\n*  [Use decision optimization](#Use-decision-optimization)\n    *  [Step 1: Download the library](#Step-1:-Download-the-library)\n    *  [Step 2: Set up the engines](#Step-2:-Set-up-the-prescriptive-engine)\n    -  [Step 3: Model the data](#Step-3:-Model-the-data)\n    *  [Step 4: Prepare the data](#Step-4:-Prepare-the-data)\n    -  [Step 5: Set up the prescriptive model](#Step-5:-Set-up-the-prescriptive-model)\n        * [Define the decision variables](#Define-the-decision-variables)\n        * [Express the business constraints](#Express-the-business-constraints)\n        * [Express the objective](#Express-the-objective)\n        * [Solve with the Decision Optimization solve service](#Solve-with-the-Decision-Optimization-solve-service)\n    *  [Step 6: Investigate the solution and run an example analysis](#Step-6:-Investigate-the-solution-and-then-run-an-example-analysis)\n*  [Summary](#Summary)\n\n****", 
            "cell_type": "markdown", 
            "metadata": {}
        }, 
        {
            "source": "## Describe the business problem\n\nThis notebook describes how to use CPLEX Modeling for Python together with *pandas* to\nmanage the assignment of nurses to shifts in a hospital.\n\nNurses must be assigned to hospital shifts in accordance with various skill and staffing constraints.\n\nThe goal of the model is to find an efficient balance between the different objectives:\n\n* Minimize the overall cost of the plan and\n* Assign shifts as fairly as possible.\n", 
            "cell_type": "markdown", 
            "metadata": {}
        }, 
        {
            "source": "## How  decision optimization can help\n\n* Prescriptive analytics (decision optimization) technology recommends actions that are based on desired outcomes.  It takes into account specific scenarios, resources, and knowledge of past and current events. With this insight, your organization can make better decisions and have greater control of business outcomes.  \n\n* Prescriptive analytics is the next step on the path to insight-based actions. It creates value through synergy with predictive analytics, which analyzes data to predict future outcomes.  \n\n* Prescriptive analytics takes that insight to the next level by suggesting the optimal way to handle that future situation. Organizations that can act fast in dynamic conditions and make superior decisions in uncertain environments gain a strong competitive advantage.  \n<br/>\n\n<u>With prescriptive analytics, you can:</u> \n\n* Automate the complex decisions and trade-offs to better manage your limited resources.\n* Take advantage of a future opportunity or mitigate a future risk.\n* Proactively update recommendations based on changing events.\n* Meet operational goals, increase customer loyalty, prevent threats and fraud, and optimize business processes.", 
            "cell_type": "markdown", 
            "metadata": {}
        }, 
        {
            "source": "## Checking minimum requirements\nThis notebook uses some features of pandas that are available in version 0.17.1 or above.", 
            "cell_type": "markdown", 
            "metadata": {}
        }, 
        {
            "source": "import pip\nREQUIRED_MINIMUM_PANDAS_VERSION = '0.17.1'\ntry:\n    import pandas as pd\n    assert pd.__version__ >= REQUIRED_MINIMUM_PANDAS_VERSION\nexcept:\n    raise Exception(\"Version %s or above of Pandas is required to run this notebook\" % REQUIRED_MINIMUM_PANDAS_VERSION)", 
            "cell_type": "code", 
            "metadata": {}, 
            "outputs": [], 
            "execution_count": 2
        }, 
        {
            "source": "## Use decision optimization", 
            "cell_type": "markdown", 
            "metadata": {}
        }, 
        {
            "source": "### Step 1: Download the library\n\nRun the following code to install the Decision Optimization CPLEX Modeling library.  The *DOcplex* library contains the two modeling packages, Mathematical Programming (docplex.mp) and Constraint Programming (docplex.cp).", 
            "cell_type": "markdown", 
            "metadata": {}
        }, 
        {
            "source": "import sys\ntry:\n    import docplex.mp\nexcept:\n    if hasattr(sys, 'real_prefix'):\n        #we are in a virtual env.\n        !pip install docplex \n    else:\n        !pip install --user docplex      ", 
            "cell_type": "code", 
            "metadata": {}, 
            "outputs": [
                {
                    "output_type": "stream", 
                    "name": "stdout", 
                    "text": "Collecting docplex\n  Downloading https://files.pythonhosted.org/packages/34/ca/8663b7ea1fdc03434eff0eace841d64ffc6f18238734715d729215dfc3e8/docplex-2.6.94.tar.gz (456kB)\n\u001b[K    100% |\u2588\u2588\u2588\u2588\u2588\u2588\u2588\u2588\u2588\u2588\u2588\u2588\u2588\u2588\u2588\u2588\u2588\u2588\u2588\u2588\u2588\u2588\u2588\u2588\u2588\u2588\u2588\u2588\u2588\u2588\u2588\u2588| 460kB 946kB/s eta 0:00:01\n\u001b[?25hRequirement already satisfied: requests in /usr/local/src/bluemix_jupyter_bundle.v88/notebook/lib/python2.7/site-packages (from docplex)\nRequirement already satisfied: six in /usr/local/src/bluemix_jupyter_bundle.v88/notebook/lib/python2.7/site-packages (from docplex)\nCollecting docloud>=1.0.277 (from docplex)\n  Downloading https://files.pythonhosted.org/packages/82/40/a2730c175044158ceb6518ba81d0b32e97f33f08840385c09da27490c234/docloud-1.0.277.tar.gz\nRequirement already satisfied: futures in /usr/local/src/bluemix_jupyter_bundle.v88/notebook/lib/python2.7/site-packages (from docplex)\nRequirement already satisfied: urllib3<1.23,>=1.21.1 in /usr/local/src/bluemix_jupyter_bundle.v88/notebook/lib/python2.7/site-packages (from requests->docplex)\nRequirement already satisfied: idna<2.7,>=2.5 in /usr/local/src/bluemix_jupyter_bundle.v88/notebook/lib/python2.7/site-packages (from requests->docplex)\nRequirement already satisfied: chardet<3.1.0,>=3.0.2 in /usr/local/src/bluemix_jupyter_bundle.v88/notebook/lib/python2.7/site-packages (from requests->docplex)\nRequirement already satisfied: certifi>=2017.4.17 in /usr/local/src/bluemix_jupyter_bundle.v88/notebook/lib/python2.7/site-packages (from requests->docplex)\nRequirement already satisfied: enum34 in /usr/local/src/bluemix_jupyter_bundle.v88/notebook/lib/python2.7/site-packages (from docloud>=1.0.277->docplex)\nBuilding wheels for collected packages: docplex, docloud\n  Running setup.py bdist_wheel for docplex ... \u001b[?25ldone\n\u001b[?25h  Stored in directory: /gpfs/fs01/user/sbc9-bb3f19a9503e6e-503483c63ed2/.cache/pip/wheels/3a/f2/ab/98e330a6f7d7389c787e0abd1b80f8a94e6e744b18b46187e2\n  Running setup.py bdist_wheel for docloud ... \u001b[?25ldone\n\u001b[?25h  Stored in directory: /gpfs/fs01/user/sbc9-bb3f19a9503e6e-503483c63ed2/.cache/pip/wheels/5a/dd/78/d0a388394bfd30cf37676ea0f5080bdcdcdf89bf35eeb619bb\nSuccessfully built docplex docloud\nInstalling collected packages: docloud, docplex\nSuccessfully installed docloud-1.0.277 docplex-2.6.94\n"
                }
            ], 
            "execution_count": 3
        }, 
        {
            "source": "### Step 2: Set up the prescriptive engine\n\n* Subscribe to the [Decision Optimization on Cloud solve service](https://developer.ibm.com/docloud).\n* Get the service URL and your personal API key (Client_id) and enter your credentials here:", 
            "cell_type": "markdown", 
            "metadata": {}
        }, 
        {
            "source": "url = \"https://api-oaas.docloud.ibmcloud.com/job_manager/rest/v1/\" # ENTER YOUR URL HERE\nkey = \"api_b0731a07-aabc-45cf-b58b-ab8907d7dce2\" # ENTER YOUR KEY (Client_id) HERE", 
            "cell_type": "code", 
            "metadata": {}, 
            "outputs": [], 
            "execution_count": 4
        }, 
        {
            "source": "### Step 3: Model the data\n\nThe input data consists of several tables:\n\n* The Departments table lists all departments in the scope of the assignment.\n* The Skills table list all skills.\n* The Shifts table lists all shifts to be staffed. A shift contains a department, a day in the week, plus the start and end times.\n* The Nurses table lists all nurses, identified by their names.\n* The NurseSkills table gives the skills of each nurse.\n* The SkillRequirements table lists the minimum number of persons required for a given department and skill.\n* The NurseVacations table lists days off for each nurse.\n* The NurseAssociations table lists pairs of nurses who wish to work together.\n* The NurseIncompatibilities table lists pairs of nurses who do not want to work together.", 
            "cell_type": "markdown", 
            "metadata": {}
        }, 
        {
            "source": "#### Loading data from Excel with pandas\n\nWe load the data from an Excel file using *pandas*.\nEach sheet is read into a separate *pandas* DataFrame.", 
            "cell_type": "markdown", 
            "metadata": {}
        }, 
        {
            "source": "# This notebook requires pandas to work\nfrom io import StringIO\nimport json\nimport pandas as pd\nfrom pandas import DataFrame\n\n# Make sure that xlrd package, which is a pandas optional dependency, is installed\n# This package is required for Excel I/O\ntry:\n    import xlrd\nexcept:\n    if hasattr(sys, 'real_prefix'):\n        #we are in a virtual env.\n        !pip install xlrd \n    else:\n        !pip install --user xlrd", 
            "cell_type": "code", 
            "metadata": {}, 
            "outputs": [], 
            "execution_count": 5
        }, 
        {
            "source": "\n# Use pandas to read the file, one tab for each table.\nnurse_xls_file = pd.ExcelFile(\"https://apsportal.ibm.com/exchange-api/v1/entries/2505b070a22403aac9f84884d315219e/data?accessKey=38990e0e17b15be6df05d384006a1d06\")\ndf_skills = nurse_xls_file.parse('Skills')\ndf_depts  = nurse_xls_file.parse('Departments')\ndf_shifts = nurse_xls_file.parse('Shifts')\n# Rename df_shifts index\ndf_shifts.index.name = 'shiftId'\n\n# Index is column 0: name\ndf_nurses = nurse_xls_file.parse('Nurses', header=0, index_col=0)\ndf_nurse_skilles = nurse_xls_file.parse('NurseSkills')\ndf_vacations = nurse_xls_file.parse('NurseVacations')\ndf_associations = nurse_xls_file.parse('NurseAssociations')\ndf_incompatibilities = nurse_xls_file.parse('NurseIncompatibilities')\n\n# Display the nurses dataframe\nprint(\"#nurses = {}\".format(len(df_nurses)))\nprint(\"#shifts = {}\".format(len(df_shifts)))\nprint(\"#vacations = {}\".format(len(df_vacations)))", 
            "cell_type": "code", 
            "metadata": {}, 
            "outputs": [
                {
                    "output_type": "stream", 
                    "name": "stdout", 
                    "text": "#nurses = 32\n#shifts = 41\n#vacations = 59\n"
                }
            ], 
            "execution_count": 6
        }, 
        {
            "source": "In addition, we introduce some extra global data:\n\n* The maximum work time for each nurse.\n* The maximum and minimum number of shifts worked by a nurse in a week.", 
            "cell_type": "markdown", 
            "metadata": {}
        }, 
        {
            "source": "# maximum work time (in hours)\nmax_work_time = 40\n\n# maximum number of shifts worked in a week.\nmax_nb_shifts = 5", 
            "cell_type": "code", 
            "metadata": {}, 
            "outputs": [], 
            "execution_count": 7
        }, 
        {
            "source": "Shifts are stored in a separate DataFrame.", 
            "cell_type": "markdown", 
            "metadata": {}
        }, 
        {
            "source": "df_shifts", 
            "cell_type": "code", 
            "metadata": {}, 
            "outputs": [
                {
                    "output_type": "execute_result", 
                    "data": {
                        "text/plain": "           department        day  start_time  end_time  min_req  max_req\nshiftId                                                                 \n0           Emergency     Monday           2         8        3        5\n1           Emergency     Monday           8        12        4        7\n2           Emergency     Monday          12        18        2        5\n3           Emergency     Monday          18         2        3        7\n4        Consultation     Monday           8        12       10       13\n5        Consultation     Monday          12        18        8       12\n6        Cardiac Care     Monday           8        12       10       13\n7        Cardiac Care     Monday          12        18        8       12\n8           Emergency    Tuesday           8        12        4        7\n9           Emergency    Tuesday          12        18        2        5\n10          Emergency    Tuesday          18         2        3        7\n11       Consultation    Tuesday           8        12       10       13\n12       Consultation    Tuesday          12        18        8       12\n13       Cardiac Care    Tuesday           8        12        4        7\n14       Cardiac Care    Tuesday          12        18        2        5\n15       Cardiac Care    Tuesday          18         2        3        7\n16          Emergency  Wednesday           2         8        3        5\n17          Emergency  Wednesday           8        12        4        7\n18          Emergency  Wednesday          12        18        2        5\n19          Emergency  Wednesday          18         2        3        7\n20       Consultation  Wednesday           8        12       10       13\n21       Consultation  Wednesday          12        18        8       12\n22          Emergency   Thursday           2         8        3        5\n23          Emergency   Thursday           8        12        4        7\n24          Emergency   Thursday          12        18        2        5\n25          Emergency   Thursday          18         2        3        7\n26       Consultation   Thursday           8        12       10       13\n27       Consultation   Thursday          12        18        8       12\n28          Emergency     Friday           2         8        3        5\n29          Emergency     Friday           8        12        4        7\n30          Emergency     Friday          12        18        2        5\n31          Emergency     Friday          18         2        3        7\n32       Consultation     Friday           8        12       10       13\n33       Consultation     Friday          12        18        8       12\n34          Emergency   Saturday           2        12        5        7\n35          Emergency   Saturday          12        20        7        9\n36          Emergency   Saturday          20         2       12       12\n37          Emergency     Sunday           2        12        5        7\n38          Emergency     Sunday          12        20        7        9\n39          Emergency     Sunday          20         2        8       12\n40         Geriatrics     Sunday           8        10        2        5", 
                        "text/html": "<div>\n<table border=\"1\" class=\"dataframe\">\n  <thead>\n    <tr style=\"text-align: right;\">\n      <th></th>\n      <th>department</th>\n      <th>day</th>\n      <th>start_time</th>\n      <th>end_time</th>\n      <th>min_req</th>\n      <th>max_req</th>\n    </tr>\n    <tr>\n      <th>shiftId</th>\n      <th></th>\n      <th></th>\n      <th></th>\n      <th></th>\n      <th></th>\n      <th></th>\n    </tr>\n  </thead>\n  <tbody>\n    <tr>\n      <th>0</th>\n      <td>Emergency</td>\n      <td>Monday</td>\n      <td>2</td>\n      <td>8</td>\n      <td>3</td>\n      <td>5</td>\n    </tr>\n    <tr>\n      <th>1</th>\n      <td>Emergency</td>\n      <td>Monday</td>\n      <td>8</td>\n      <td>12</td>\n      <td>4</td>\n      <td>7</td>\n    </tr>\n    <tr>\n      <th>2</th>\n      <td>Emergency</td>\n      <td>Monday</td>\n      <td>12</td>\n      <td>18</td>\n      <td>2</td>\n      <td>5</td>\n    </tr>\n    <tr>\n      <th>3</th>\n      <td>Emergency</td>\n      <td>Monday</td>\n      <td>18</td>\n      <td>2</td>\n      <td>3</td>\n      <td>7</td>\n    </tr>\n    <tr>\n      <th>4</th>\n      <td>Consultation</td>\n      <td>Monday</td>\n      <td>8</td>\n      <td>12</td>\n      <td>10</td>\n      <td>13</td>\n    </tr>\n    <tr>\n      <th>5</th>\n      <td>Consultation</td>\n      <td>Monday</td>\n      <td>12</td>\n      <td>18</td>\n      <td>8</td>\n      <td>12</td>\n    </tr>\n    <tr>\n      <th>6</th>\n      <td>Cardiac Care</td>\n      <td>Monday</td>\n      <td>8</td>\n      <td>12</td>\n      <td>10</td>\n      <td>13</td>\n    </tr>\n    <tr>\n      <th>7</th>\n      <td>Cardiac Care</td>\n      <td>Monday</td>\n      <td>12</td>\n      <td>18</td>\n      <td>8</td>\n      <td>12</td>\n    </tr>\n    <tr>\n      <th>8</th>\n      <td>Emergency</td>\n      <td>Tuesday</td>\n      <td>8</td>\n      <td>12</td>\n      <td>4</td>\n      <td>7</td>\n    </tr>\n    <tr>\n      <th>9</th>\n      <td>Emergency</td>\n      <td>Tuesday</td>\n      <td>12</td>\n      <td>18</td>\n      <td>2</td>\n      <td>5</td>\n    </tr>\n    <tr>\n      <th>10</th>\n      <td>Emergency</td>\n      <td>Tuesday</td>\n      <td>18</td>\n      <td>2</td>\n      <td>3</td>\n      <td>7</td>\n    </tr>\n    <tr>\n      <th>11</th>\n      <td>Consultation</td>\n      <td>Tuesday</td>\n      <td>8</td>\n      <td>12</td>\n      <td>10</td>\n      <td>13</td>\n    </tr>\n    <tr>\n      <th>12</th>\n      <td>Consultation</td>\n      <td>Tuesday</td>\n      <td>12</td>\n      <td>18</td>\n      <td>8</td>\n      <td>12</td>\n    </tr>\n    <tr>\n      <th>13</th>\n      <td>Cardiac Care</td>\n      <td>Tuesday</td>\n      <td>8</td>\n      <td>12</td>\n      <td>4</td>\n      <td>7</td>\n    </tr>\n    <tr>\n      <th>14</th>\n      <td>Cardiac Care</td>\n      <td>Tuesday</td>\n      <td>12</td>\n      <td>18</td>\n      <td>2</td>\n      <td>5</td>\n    </tr>\n    <tr>\n      <th>15</th>\n      <td>Cardiac Care</td>\n      <td>Tuesday</td>\n      <td>18</td>\n      <td>2</td>\n      <td>3</td>\n      <td>7</td>\n    </tr>\n    <tr>\n      <th>16</th>\n      <td>Emergency</td>\n      <td>Wednesday</td>\n      <td>2</td>\n      <td>8</td>\n      <td>3</td>\n      <td>5</td>\n    </tr>\n    <tr>\n      <th>17</th>\n      <td>Emergency</td>\n      <td>Wednesday</td>\n      <td>8</td>\n      <td>12</td>\n      <td>4</td>\n      <td>7</td>\n    </tr>\n    <tr>\n      <th>18</th>\n      <td>Emergency</td>\n      <td>Wednesday</td>\n      <td>12</td>\n      <td>18</td>\n      <td>2</td>\n      <td>5</td>\n    </tr>\n    <tr>\n      <th>19</th>\n      <td>Emergency</td>\n      <td>Wednesday</td>\n      <td>18</td>\n      <td>2</td>\n      <td>3</td>\n      <td>7</td>\n    </tr>\n    <tr>\n      <th>20</th>\n      <td>Consultation</td>\n      <td>Wednesday</td>\n      <td>8</td>\n      <td>12</td>\n      <td>10</td>\n      <td>13</td>\n    </tr>\n    <tr>\n      <th>21</th>\n      <td>Consultation</td>\n      <td>Wednesday</td>\n      <td>12</td>\n      <td>18</td>\n      <td>8</td>\n      <td>12</td>\n    </tr>\n    <tr>\n      <th>22</th>\n      <td>Emergency</td>\n      <td>Thursday</td>\n      <td>2</td>\n      <td>8</td>\n      <td>3</td>\n      <td>5</td>\n    </tr>\n    <tr>\n      <th>23</th>\n      <td>Emergency</td>\n      <td>Thursday</td>\n      <td>8</td>\n      <td>12</td>\n      <td>4</td>\n      <td>7</td>\n    </tr>\n    <tr>\n      <th>24</th>\n      <td>Emergency</td>\n      <td>Thursday</td>\n      <td>12</td>\n      <td>18</td>\n      <td>2</td>\n      <td>5</td>\n    </tr>\n    <tr>\n      <th>25</th>\n      <td>Emergency</td>\n      <td>Thursday</td>\n      <td>18</td>\n      <td>2</td>\n      <td>3</td>\n      <td>7</td>\n    </tr>\n    <tr>\n      <th>26</th>\n      <td>Consultation</td>\n      <td>Thursday</td>\n      <td>8</td>\n      <td>12</td>\n      <td>10</td>\n      <td>13</td>\n    </tr>\n    <tr>\n      <th>27</th>\n      <td>Consultation</td>\n      <td>Thursday</td>\n      <td>12</td>\n      <td>18</td>\n      <td>8</td>\n      <td>12</td>\n    </tr>\n    <tr>\n      <th>28</th>\n      <td>Emergency</td>\n      <td>Friday</td>\n      <td>2</td>\n      <td>8</td>\n      <td>3</td>\n      <td>5</td>\n    </tr>\n    <tr>\n      <th>29</th>\n      <td>Emergency</td>\n      <td>Friday</td>\n      <td>8</td>\n      <td>12</td>\n      <td>4</td>\n      <td>7</td>\n    </tr>\n    <tr>\n      <th>30</th>\n      <td>Emergency</td>\n      <td>Friday</td>\n      <td>12</td>\n      <td>18</td>\n      <td>2</td>\n      <td>5</td>\n    </tr>\n    <tr>\n      <th>31</th>\n      <td>Emergency</td>\n      <td>Friday</td>\n      <td>18</td>\n      <td>2</td>\n      <td>3</td>\n      <td>7</td>\n    </tr>\n    <tr>\n      <th>32</th>\n      <td>Consultation</td>\n      <td>Friday</td>\n      <td>8</td>\n      <td>12</td>\n      <td>10</td>\n      <td>13</td>\n    </tr>\n    <tr>\n      <th>33</th>\n      <td>Consultation</td>\n      <td>Friday</td>\n      <td>12</td>\n      <td>18</td>\n      <td>8</td>\n      <td>12</td>\n    </tr>\n    <tr>\n      <th>34</th>\n      <td>Emergency</td>\n      <td>Saturday</td>\n      <td>2</td>\n      <td>12</td>\n      <td>5</td>\n      <td>7</td>\n    </tr>\n    <tr>\n      <th>35</th>\n      <td>Emergency</td>\n      <td>Saturday</td>\n      <td>12</td>\n      <td>20</td>\n      <td>7</td>\n      <td>9</td>\n    </tr>\n    <tr>\n      <th>36</th>\n      <td>Emergency</td>\n      <td>Saturday</td>\n      <td>20</td>\n      <td>2</td>\n      <td>12</td>\n      <td>12</td>\n    </tr>\n    <tr>\n      <th>37</th>\n      <td>Emergency</td>\n      <td>Sunday</td>\n      <td>2</td>\n      <td>12</td>\n      <td>5</td>\n      <td>7</td>\n    </tr>\n    <tr>\n      <th>38</th>\n      <td>Emergency</td>\n      <td>Sunday</td>\n      <td>12</td>\n      <td>20</td>\n      <td>7</td>\n      <td>9</td>\n    </tr>\n    <tr>\n      <th>39</th>\n      <td>Emergency</td>\n      <td>Sunday</td>\n      <td>20</td>\n      <td>2</td>\n      <td>8</td>\n      <td>12</td>\n    </tr>\n    <tr>\n      <th>40</th>\n      <td>Geriatrics</td>\n      <td>Sunday</td>\n      <td>8</td>\n      <td>10</td>\n      <td>2</td>\n      <td>5</td>\n    </tr>\n  </tbody>\n</table>\n</div>"
                    }, 
                    "execution_count": 8, 
                    "metadata": {}
                }
            ], 
            "execution_count": 8
        }, 
        {
            "source": "### Step 4: Prepare the data\n\nWe need to precompute additional data for shifts. \nFor each shift, we need the start time and end time expressed in hours, counting from the beginning of the week: Monday 8am is converted to 8, Tuesday 8am is converted to 24+8 = 32, and so on.\n\n#### Sub-step #1\nWe start by adding an extra column `dow` (day of week) which converts the string \"day\" into an integer in 0..6 (Monday is 0, Sunday is 6).", 
            "cell_type": "markdown", 
            "metadata": {}
        }, 
        {
            "source": "days = [\"monday\", \"tuesday\", \"wednesday\", \"thursday\", \"friday\", \"saturday\", \"sunday\"]\nday_of_weeks = dict(zip(days, range(7)))\n\n# utility to convert a day string e.g. \"Monday\" to an integer in 0..6\ndef day_to_day_of_week(day):\n    return day_of_weeks[day.strip().lower()]\n\n# for each day name, we normalize it by stripping whitespace and converting it to lowercase\n# \" Monday\" -> \"monday\"\ndf_shifts[\"dow\"] = df_shifts.day.apply(day_to_day_of_week)\ndf_shifts", 
            "cell_type": "code", 
            "metadata": {}, 
            "outputs": [
                {
                    "output_type": "execute_result", 
                    "data": {
                        "text/plain": "           department        day  start_time  end_time  min_req  max_req  dow\nshiftId                                                                      \n0           Emergency     Monday           2         8        3        5    0\n1           Emergency     Monday           8        12        4        7    0\n2           Emergency     Monday          12        18        2        5    0\n3           Emergency     Monday          18         2        3        7    0\n4        Consultation     Monday           8        12       10       13    0\n5        Consultation     Monday          12        18        8       12    0\n6        Cardiac Care     Monday           8        12       10       13    0\n7        Cardiac Care     Monday          12        18        8       12    0\n8           Emergency    Tuesday           8        12        4        7    1\n9           Emergency    Tuesday          12        18        2        5    1\n10          Emergency    Tuesday          18         2        3        7    1\n11       Consultation    Tuesday           8        12       10       13    1\n12       Consultation    Tuesday          12        18        8       12    1\n13       Cardiac Care    Tuesday           8        12        4        7    1\n14       Cardiac Care    Tuesday          12        18        2        5    1\n15       Cardiac Care    Tuesday          18         2        3        7    1\n16          Emergency  Wednesday           2         8        3        5    2\n17          Emergency  Wednesday           8        12        4        7    2\n18          Emergency  Wednesday          12        18        2        5    2\n19          Emergency  Wednesday          18         2        3        7    2\n20       Consultation  Wednesday           8        12       10       13    2\n21       Consultation  Wednesday          12        18        8       12    2\n22          Emergency   Thursday           2         8        3        5    3\n23          Emergency   Thursday           8        12        4        7    3\n24          Emergency   Thursday          12        18        2        5    3\n25          Emergency   Thursday          18         2        3        7    3\n26       Consultation   Thursday           8        12       10       13    3\n27       Consultation   Thursday          12        18        8       12    3\n28          Emergency     Friday           2         8        3        5    4\n29          Emergency     Friday           8        12        4        7    4\n30          Emergency     Friday          12        18        2        5    4\n31          Emergency     Friday          18         2        3        7    4\n32       Consultation     Friday           8        12       10       13    4\n33       Consultation     Friday          12        18        8       12    4\n34          Emergency   Saturday           2        12        5        7    5\n35          Emergency   Saturday          12        20        7        9    5\n36          Emergency   Saturday          20         2       12       12    5\n37          Emergency     Sunday           2        12        5        7    6\n38          Emergency     Sunday          12        20        7        9    6\n39          Emergency     Sunday          20         2        8       12    6\n40         Geriatrics     Sunday           8        10        2        5    6", 
                        "text/html": "<div>\n<table border=\"1\" class=\"dataframe\">\n  <thead>\n    <tr style=\"text-align: right;\">\n      <th></th>\n      <th>department</th>\n      <th>day</th>\n      <th>start_time</th>\n      <th>end_time</th>\n      <th>min_req</th>\n      <th>max_req</th>\n      <th>dow</th>\n    </tr>\n    <tr>\n      <th>shiftId</th>\n      <th></th>\n      <th></th>\n      <th></th>\n      <th></th>\n      <th></th>\n      <th></th>\n      <th></th>\n    </tr>\n  </thead>\n  <tbody>\n    <tr>\n      <th>0</th>\n      <td>Emergency</td>\n      <td>Monday</td>\n      <td>2</td>\n      <td>8</td>\n      <td>3</td>\n      <td>5</td>\n      <td>0</td>\n    </tr>\n    <tr>\n      <th>1</th>\n      <td>Emergency</td>\n      <td>Monday</td>\n      <td>8</td>\n      <td>12</td>\n      <td>4</td>\n      <td>7</td>\n      <td>0</td>\n    </tr>\n    <tr>\n      <th>2</th>\n      <td>Emergency</td>\n      <td>Monday</td>\n      <td>12</td>\n      <td>18</td>\n      <td>2</td>\n      <td>5</td>\n      <td>0</td>\n    </tr>\n    <tr>\n      <th>3</th>\n      <td>Emergency</td>\n      <td>Monday</td>\n      <td>18</td>\n      <td>2</td>\n      <td>3</td>\n      <td>7</td>\n      <td>0</td>\n    </tr>\n    <tr>\n      <th>4</th>\n      <td>Consultation</td>\n      <td>Monday</td>\n      <td>8</td>\n      <td>12</td>\n      <td>10</td>\n      <td>13</td>\n      <td>0</td>\n    </tr>\n    <tr>\n      <th>5</th>\n      <td>Consultation</td>\n      <td>Monday</td>\n      <td>12</td>\n      <td>18</td>\n      <td>8</td>\n      <td>12</td>\n      <td>0</td>\n    </tr>\n    <tr>\n      <th>6</th>\n      <td>Cardiac Care</td>\n      <td>Monday</td>\n      <td>8</td>\n      <td>12</td>\n      <td>10</td>\n      <td>13</td>\n      <td>0</td>\n    </tr>\n    <tr>\n      <th>7</th>\n      <td>Cardiac Care</td>\n      <td>Monday</td>\n      <td>12</td>\n      <td>18</td>\n      <td>8</td>\n      <td>12</td>\n      <td>0</td>\n    </tr>\n    <tr>\n      <th>8</th>\n      <td>Emergency</td>\n      <td>Tuesday</td>\n      <td>8</td>\n      <td>12</td>\n      <td>4</td>\n      <td>7</td>\n      <td>1</td>\n    </tr>\n    <tr>\n      <th>9</th>\n      <td>Emergency</td>\n      <td>Tuesday</td>\n      <td>12</td>\n      <td>18</td>\n      <td>2</td>\n      <td>5</td>\n      <td>1</td>\n    </tr>\n    <tr>\n      <th>10</th>\n      <td>Emergency</td>\n      <td>Tuesday</td>\n      <td>18</td>\n      <td>2</td>\n      <td>3</td>\n      <td>7</td>\n      <td>1</td>\n    </tr>\n    <tr>\n      <th>11</th>\n      <td>Consultation</td>\n      <td>Tuesday</td>\n      <td>8</td>\n      <td>12</td>\n      <td>10</td>\n      <td>13</td>\n      <td>1</td>\n    </tr>\n    <tr>\n      <th>12</th>\n      <td>Consultation</td>\n      <td>Tuesday</td>\n      <td>12</td>\n      <td>18</td>\n      <td>8</td>\n      <td>12</td>\n      <td>1</td>\n    </tr>\n    <tr>\n      <th>13</th>\n      <td>Cardiac Care</td>\n      <td>Tuesday</td>\n      <td>8</td>\n      <td>12</td>\n      <td>4</td>\n      <td>7</td>\n      <td>1</td>\n    </tr>\n    <tr>\n      <th>14</th>\n      <td>Cardiac Care</td>\n      <td>Tuesday</td>\n      <td>12</td>\n      <td>18</td>\n      <td>2</td>\n      <td>5</td>\n      <td>1</td>\n    </tr>\n    <tr>\n      <th>15</th>\n      <td>Cardiac Care</td>\n      <td>Tuesday</td>\n      <td>18</td>\n      <td>2</td>\n      <td>3</td>\n      <td>7</td>\n      <td>1</td>\n    </tr>\n    <tr>\n      <th>16</th>\n      <td>Emergency</td>\n      <td>Wednesday</td>\n      <td>2</td>\n      <td>8</td>\n      <td>3</td>\n      <td>5</td>\n      <td>2</td>\n    </tr>\n    <tr>\n      <th>17</th>\n      <td>Emergency</td>\n      <td>Wednesday</td>\n      <td>8</td>\n      <td>12</td>\n      <td>4</td>\n      <td>7</td>\n      <td>2</td>\n    </tr>\n    <tr>\n      <th>18</th>\n      <td>Emergency</td>\n      <td>Wednesday</td>\n      <td>12</td>\n      <td>18</td>\n      <td>2</td>\n      <td>5</td>\n      <td>2</td>\n    </tr>\n    <tr>\n      <th>19</th>\n      <td>Emergency</td>\n      <td>Wednesday</td>\n      <td>18</td>\n      <td>2</td>\n      <td>3</td>\n      <td>7</td>\n      <td>2</td>\n    </tr>\n    <tr>\n      <th>20</th>\n      <td>Consultation</td>\n      <td>Wednesday</td>\n      <td>8</td>\n      <td>12</td>\n      <td>10</td>\n      <td>13</td>\n      <td>2</td>\n    </tr>\n    <tr>\n      <th>21</th>\n      <td>Consultation</td>\n      <td>Wednesday</td>\n      <td>12</td>\n      <td>18</td>\n      <td>8</td>\n      <td>12</td>\n      <td>2</td>\n    </tr>\n    <tr>\n      <th>22</th>\n      <td>Emergency</td>\n      <td>Thursday</td>\n      <td>2</td>\n      <td>8</td>\n      <td>3</td>\n      <td>5</td>\n      <td>3</td>\n    </tr>\n    <tr>\n      <th>23</th>\n      <td>Emergency</td>\n      <td>Thursday</td>\n      <td>8</td>\n      <td>12</td>\n      <td>4</td>\n      <td>7</td>\n      <td>3</td>\n    </tr>\n    <tr>\n      <th>24</th>\n      <td>Emergency</td>\n      <td>Thursday</td>\n      <td>12</td>\n      <td>18</td>\n      <td>2</td>\n      <td>5</td>\n      <td>3</td>\n    </tr>\n    <tr>\n      <th>25</th>\n      <td>Emergency</td>\n      <td>Thursday</td>\n      <td>18</td>\n      <td>2</td>\n      <td>3</td>\n      <td>7</td>\n      <td>3</td>\n    </tr>\n    <tr>\n      <th>26</th>\n      <td>Consultation</td>\n      <td>Thursday</td>\n      <td>8</td>\n      <td>12</td>\n      <td>10</td>\n      <td>13</td>\n      <td>3</td>\n    </tr>\n    <tr>\n      <th>27</th>\n      <td>Consultation</td>\n      <td>Thursday</td>\n      <td>12</td>\n      <td>18</td>\n      <td>8</td>\n      <td>12</td>\n      <td>3</td>\n    </tr>\n    <tr>\n      <th>28</th>\n      <td>Emergency</td>\n      <td>Friday</td>\n      <td>2</td>\n      <td>8</td>\n      <td>3</td>\n      <td>5</td>\n      <td>4</td>\n    </tr>\n    <tr>\n      <th>29</th>\n      <td>Emergency</td>\n      <td>Friday</td>\n      <td>8</td>\n      <td>12</td>\n      <td>4</td>\n      <td>7</td>\n      <td>4</td>\n    </tr>\n    <tr>\n      <th>30</th>\n      <td>Emergency</td>\n      <td>Friday</td>\n      <td>12</td>\n      <td>18</td>\n      <td>2</td>\n      <td>5</td>\n      <td>4</td>\n    </tr>\n    <tr>\n      <th>31</th>\n      <td>Emergency</td>\n      <td>Friday</td>\n      <td>18</td>\n      <td>2</td>\n      <td>3</td>\n      <td>7</td>\n      <td>4</td>\n    </tr>\n    <tr>\n      <th>32</th>\n      <td>Consultation</td>\n      <td>Friday</td>\n      <td>8</td>\n      <td>12</td>\n      <td>10</td>\n      <td>13</td>\n      <td>4</td>\n    </tr>\n    <tr>\n      <th>33</th>\n      <td>Consultation</td>\n      <td>Friday</td>\n      <td>12</td>\n      <td>18</td>\n      <td>8</td>\n      <td>12</td>\n      <td>4</td>\n    </tr>\n    <tr>\n      <th>34</th>\n      <td>Emergency</td>\n      <td>Saturday</td>\n      <td>2</td>\n      <td>12</td>\n      <td>5</td>\n      <td>7</td>\n      <td>5</td>\n    </tr>\n    <tr>\n      <th>35</th>\n      <td>Emergency</td>\n      <td>Saturday</td>\n      <td>12</td>\n      <td>20</td>\n      <td>7</td>\n      <td>9</td>\n      <td>5</td>\n    </tr>\n    <tr>\n      <th>36</th>\n      <td>Emergency</td>\n      <td>Saturday</td>\n      <td>20</td>\n      <td>2</td>\n      <td>12</td>\n      <td>12</td>\n      <td>5</td>\n    </tr>\n    <tr>\n      <th>37</th>\n      <td>Emergency</td>\n      <td>Sunday</td>\n      <td>2</td>\n      <td>12</td>\n      <td>5</td>\n      <td>7</td>\n      <td>6</td>\n    </tr>\n    <tr>\n      <th>38</th>\n      <td>Emergency</td>\n      <td>Sunday</td>\n      <td>12</td>\n      <td>20</td>\n      <td>7</td>\n      <td>9</td>\n      <td>6</td>\n    </tr>\n    <tr>\n      <th>39</th>\n      <td>Emergency</td>\n      <td>Sunday</td>\n      <td>20</td>\n      <td>2</td>\n      <td>8</td>\n      <td>12</td>\n      <td>6</td>\n    </tr>\n    <tr>\n      <th>40</th>\n      <td>Geriatrics</td>\n      <td>Sunday</td>\n      <td>8</td>\n      <td>10</td>\n      <td>2</td>\n      <td>5</td>\n      <td>6</td>\n    </tr>\n  </tbody>\n</table>\n</div>"
                    }, 
                    "execution_count": 9, 
                    "metadata": {}
                }
            ], 
            "execution_count": 9
        }, 
        {
            "source": "#### Sub-step #2 : Compute the absolute start time of each shift.\n\nComputing the start time in the week is easy: just add `24*dow` to column `start_time`. The result is stored in a new column `wstart`.", 
            "cell_type": "markdown", 
            "metadata": {}
        }, 
        {
            "source": "df_shifts[\"wstart\"] = df_shifts.start_time + 24 * df_shifts.dow", 
            "cell_type": "code", 
            "metadata": {}, 
            "outputs": [], 
            "execution_count": 10
        }, 
        {
            "source": "#### Sub-Step #3 : Compute the absolute end time of each shift.\n\nComputing the absolute end time is a little more complicated as certain shifts span across midnight. For example, Shift #3 starts on Monday at 18:00 and ends Tuesday at 2:00 AM. The absolute end time of Shift #3 is 26, not 2.\nThe general rule for computing absolute end time is:\n\n`abs_end_time = end_time + 24 * dow + (start_time>= end_time ? 24 : 0)`\n\nAgain, we use *pandas* to add a new calculated column `wend`. This is done by using the *pandas* `apply` method with an anonymous `lambda` function over rows. The `raw=True` parameter prevents the creation of a *pandas* Series for each row, which improves the performance significantly on large data sets.", 
            "cell_type": "markdown", 
            "metadata": {}
        }, 
        {
            "source": "# an auxiliary function to calculate absolute end time of a shift\ndef calculate_absolute_endtime(start, end, dow):\n    return 24*dow + end + (24 if start>=end else 0)\n\n# store the results in a new column\ndf_shifts[\"wend\"] = df_shifts.apply(lambda row: calculate_absolute_endtime(\n        row.start_time, row.end_time, row.dow), axis=1, raw=True)", 
            "cell_type": "code", 
            "metadata": {}, 
            "outputs": [], 
            "execution_count": 11
        }, 
        {
            "source": "#### Sub-step #4 : Compute the duration of each shift.\n\nComputing the duration of each shift is now a straightforward difference of columns. The result is stored in column `duration`.", 
            "cell_type": "markdown", 
            "metadata": {}
        }, 
        {
            "source": "df_shifts[\"duration\"] = df_shifts.wend - df_shifts.wstart", 
            "cell_type": "code", 
            "metadata": {}, 
            "outputs": [], 
            "execution_count": 12
        }, 
        {
            "source": "#### Sub-step #5 : Compute the minimum demand for each shift.\n\nMinimum demand is the product of duration (in hours) by the minimum required number of nurses. Thus, in number of \nnurse-hours, this demand is stored in another new column `min_demand`.\n\nFinally, we display the updated shifts DataFrame with all calculated columns.", 
            "cell_type": "markdown", 
            "metadata": {}
        }, 
        {
            "source": "# also compute minimum demand in nurse-hours\ndf_shifts[\"min_demand\"] = df_shifts.min_req * df_shifts.duration\n\n# finally check the modified shifts dataframe\ndf_shifts", 
            "cell_type": "code", 
            "metadata": {}, 
            "outputs": [
                {
                    "output_type": "execute_result", 
                    "data": {
                        "text/plain": "           department        day  start_time  end_time  min_req  max_req  dow  \\\nshiftId                                                                         \n0           Emergency     Monday           2         8        3        5    0   \n1           Emergency     Monday           8        12        4        7    0   \n2           Emergency     Monday          12        18        2        5    0   \n3           Emergency     Monday          18         2        3        7    0   \n4        Consultation     Monday           8        12       10       13    0   \n5        Consultation     Monday          12        18        8       12    0   \n6        Cardiac Care     Monday           8        12       10       13    0   \n7        Cardiac Care     Monday          12        18        8       12    0   \n8           Emergency    Tuesday           8        12        4        7    1   \n9           Emergency    Tuesday          12        18        2        5    1   \n10          Emergency    Tuesday          18         2        3        7    1   \n11       Consultation    Tuesday           8        12       10       13    1   \n12       Consultation    Tuesday          12        18        8       12    1   \n13       Cardiac Care    Tuesday           8        12        4        7    1   \n14       Cardiac Care    Tuesday          12        18        2        5    1   \n15       Cardiac Care    Tuesday          18         2        3        7    1   \n16          Emergency  Wednesday           2         8        3        5    2   \n17          Emergency  Wednesday           8        12        4        7    2   \n18          Emergency  Wednesday          12        18        2        5    2   \n19          Emergency  Wednesday          18         2        3        7    2   \n20       Consultation  Wednesday           8        12       10       13    2   \n21       Consultation  Wednesday          12        18        8       12    2   \n22          Emergency   Thursday           2         8        3        5    3   \n23          Emergency   Thursday           8        12        4        7    3   \n24          Emergency   Thursday          12        18        2        5    3   \n25          Emergency   Thursday          18         2        3        7    3   \n26       Consultation   Thursday           8        12       10       13    3   \n27       Consultation   Thursday          12        18        8       12    3   \n28          Emergency     Friday           2         8        3        5    4   \n29          Emergency     Friday           8        12        4        7    4   \n30          Emergency     Friday          12        18        2        5    4   \n31          Emergency     Friday          18         2        3        7    4   \n32       Consultation     Friday           8        12       10       13    4   \n33       Consultation     Friday          12        18        8       12    4   \n34          Emergency   Saturday           2        12        5        7    5   \n35          Emergency   Saturday          12        20        7        9    5   \n36          Emergency   Saturday          20         2       12       12    5   \n37          Emergency     Sunday           2        12        5        7    6   \n38          Emergency     Sunday          12        20        7        9    6   \n39          Emergency     Sunday          20         2        8       12    6   \n40         Geriatrics     Sunday           8        10        2        5    6   \n\n         wstart  wend  duration  min_demand  \nshiftId                                      \n0             2     8         6          18  \n1             8    12         4          16  \n2            12    18         6          12  \n3            18    26         8          24  \n4             8    12         4          40  \n5            12    18         6          48  \n6             8    12         4          40  \n7            12    18         6          48  \n8            32    36         4          16  \n9            36    42         6          12  \n10           42    50         8          24  \n11           32    36         4          40  \n12           36    42         6          48  \n13           32    36         4          16  \n14           36    42         6          12  \n15           42    50         8          24  \n16           50    56         6          18  \n17           56    60         4          16  \n18           60    66         6          12  \n19           66    74         8          24  \n20           56    60         4          40  \n21           60    66         6          48  \n22           74    80         6          18  \n23           80    84         4          16  \n24           84    90         6          12  \n25           90    98         8          24  \n26           80    84         4          40  \n27           84    90         6          48  \n28           98   104         6          18  \n29          104   108         4          16  \n30          108   114         6          12  \n31          114   122         8          24  \n32          104   108         4          40  \n33          108   114         6          48  \n34          122   132        10          50  \n35          132   140         8          56  \n36          140   146         6          72  \n37          146   156        10          50  \n38          156   164         8          56  \n39          164   170         6          48  \n40          152   154         2           4  ", 
                        "text/html": "<div>\n<table border=\"1\" class=\"dataframe\">\n  <thead>\n    <tr style=\"text-align: right;\">\n      <th></th>\n      <th>department</th>\n      <th>day</th>\n      <th>start_time</th>\n      <th>end_time</th>\n      <th>min_req</th>\n      <th>max_req</th>\n      <th>dow</th>\n      <th>wstart</th>\n      <th>wend</th>\n      <th>duration</th>\n      <th>min_demand</th>\n    </tr>\n    <tr>\n      <th>shiftId</th>\n      <th></th>\n      <th></th>\n      <th></th>\n      <th></th>\n      <th></th>\n      <th></th>\n      <th></th>\n      <th></th>\n      <th></th>\n      <th></th>\n      <th></th>\n    </tr>\n  </thead>\n  <tbody>\n    <tr>\n      <th>0</th>\n      <td>Emergency</td>\n      <td>Monday</td>\n      <td>2</td>\n      <td>8</td>\n      <td>3</td>\n      <td>5</td>\n      <td>0</td>\n      <td>2</td>\n      <td>8</td>\n      <td>6</td>\n      <td>18</td>\n    </tr>\n    <tr>\n      <th>1</th>\n      <td>Emergency</td>\n      <td>Monday</td>\n      <td>8</td>\n      <td>12</td>\n      <td>4</td>\n      <td>7</td>\n      <td>0</td>\n      <td>8</td>\n      <td>12</td>\n      <td>4</td>\n      <td>16</td>\n    </tr>\n    <tr>\n      <th>2</th>\n      <td>Emergency</td>\n      <td>Monday</td>\n      <td>12</td>\n      <td>18</td>\n      <td>2</td>\n      <td>5</td>\n      <td>0</td>\n      <td>12</td>\n      <td>18</td>\n      <td>6</td>\n      <td>12</td>\n    </tr>\n    <tr>\n      <th>3</th>\n      <td>Emergency</td>\n      <td>Monday</td>\n      <td>18</td>\n      <td>2</td>\n      <td>3</td>\n      <td>7</td>\n      <td>0</td>\n      <td>18</td>\n      <td>26</td>\n      <td>8</td>\n      <td>24</td>\n    </tr>\n    <tr>\n      <th>4</th>\n      <td>Consultation</td>\n      <td>Monday</td>\n      <td>8</td>\n      <td>12</td>\n      <td>10</td>\n      <td>13</td>\n      <td>0</td>\n      <td>8</td>\n      <td>12</td>\n      <td>4</td>\n      <td>40</td>\n    </tr>\n    <tr>\n      <th>5</th>\n      <td>Consultation</td>\n      <td>Monday</td>\n      <td>12</td>\n      <td>18</td>\n      <td>8</td>\n      <td>12</td>\n      <td>0</td>\n      <td>12</td>\n      <td>18</td>\n      <td>6</td>\n      <td>48</td>\n    </tr>\n    <tr>\n      <th>6</th>\n      <td>Cardiac Care</td>\n      <td>Monday</td>\n      <td>8</td>\n      <td>12</td>\n      <td>10</td>\n      <td>13</td>\n      <td>0</td>\n      <td>8</td>\n      <td>12</td>\n      <td>4</td>\n      <td>40</td>\n    </tr>\n    <tr>\n      <th>7</th>\n      <td>Cardiac Care</td>\n      <td>Monday</td>\n      <td>12</td>\n      <td>18</td>\n      <td>8</td>\n      <td>12</td>\n      <td>0</td>\n      <td>12</td>\n      <td>18</td>\n      <td>6</td>\n      <td>48</td>\n    </tr>\n    <tr>\n      <th>8</th>\n      <td>Emergency</td>\n      <td>Tuesday</td>\n      <td>8</td>\n      <td>12</td>\n      <td>4</td>\n      <td>7</td>\n      <td>1</td>\n      <td>32</td>\n      <td>36</td>\n      <td>4</td>\n      <td>16</td>\n    </tr>\n    <tr>\n      <th>9</th>\n      <td>Emergency</td>\n      <td>Tuesday</td>\n      <td>12</td>\n      <td>18</td>\n      <td>2</td>\n      <td>5</td>\n      <td>1</td>\n      <td>36</td>\n      <td>42</td>\n      <td>6</td>\n      <td>12</td>\n    </tr>\n    <tr>\n      <th>10</th>\n      <td>Emergency</td>\n      <td>Tuesday</td>\n      <td>18</td>\n      <td>2</td>\n      <td>3</td>\n      <td>7</td>\n      <td>1</td>\n      <td>42</td>\n      <td>50</td>\n      <td>8</td>\n      <td>24</td>\n    </tr>\n    <tr>\n      <th>11</th>\n      <td>Consultation</td>\n      <td>Tuesday</td>\n      <td>8</td>\n      <td>12</td>\n      <td>10</td>\n      <td>13</td>\n      <td>1</td>\n      <td>32</td>\n      <td>36</td>\n      <td>4</td>\n      <td>40</td>\n    </tr>\n    <tr>\n      <th>12</th>\n      <td>Consultation</td>\n      <td>Tuesday</td>\n      <td>12</td>\n      <td>18</td>\n      <td>8</td>\n      <td>12</td>\n      <td>1</td>\n      <td>36</td>\n      <td>42</td>\n      <td>6</td>\n      <td>48</td>\n    </tr>\n    <tr>\n      <th>13</th>\n      <td>Cardiac Care</td>\n      <td>Tuesday</td>\n      <td>8</td>\n      <td>12</td>\n      <td>4</td>\n      <td>7</td>\n      <td>1</td>\n      <td>32</td>\n      <td>36</td>\n      <td>4</td>\n      <td>16</td>\n    </tr>\n    <tr>\n      <th>14</th>\n      <td>Cardiac Care</td>\n      <td>Tuesday</td>\n      <td>12</td>\n      <td>18</td>\n      <td>2</td>\n      <td>5</td>\n      <td>1</td>\n      <td>36</td>\n      <td>42</td>\n      <td>6</td>\n      <td>12</td>\n    </tr>\n    <tr>\n      <th>15</th>\n      <td>Cardiac Care</td>\n      <td>Tuesday</td>\n      <td>18</td>\n      <td>2</td>\n      <td>3</td>\n      <td>7</td>\n      <td>1</td>\n      <td>42</td>\n      <td>50</td>\n      <td>8</td>\n      <td>24</td>\n    </tr>\n    <tr>\n      <th>16</th>\n      <td>Emergency</td>\n      <td>Wednesday</td>\n      <td>2</td>\n      <td>8</td>\n      <td>3</td>\n      <td>5</td>\n      <td>2</td>\n      <td>50</td>\n      <td>56</td>\n      <td>6</td>\n      <td>18</td>\n    </tr>\n    <tr>\n      <th>17</th>\n      <td>Emergency</td>\n      <td>Wednesday</td>\n      <td>8</td>\n      <td>12</td>\n      <td>4</td>\n      <td>7</td>\n      <td>2</td>\n      <td>56</td>\n      <td>60</td>\n      <td>4</td>\n      <td>16</td>\n    </tr>\n    <tr>\n      <th>18</th>\n      <td>Emergency</td>\n      <td>Wednesday</td>\n      <td>12</td>\n      <td>18</td>\n      <td>2</td>\n      <td>5</td>\n      <td>2</td>\n      <td>60</td>\n      <td>66</td>\n      <td>6</td>\n      <td>12</td>\n    </tr>\n    <tr>\n      <th>19</th>\n      <td>Emergency</td>\n      <td>Wednesday</td>\n      <td>18</td>\n      <td>2</td>\n      <td>3</td>\n      <td>7</td>\n      <td>2</td>\n      <td>66</td>\n      <td>74</td>\n      <td>8</td>\n      <td>24</td>\n    </tr>\n    <tr>\n      <th>20</th>\n      <td>Consultation</td>\n      <td>Wednesday</td>\n      <td>8</td>\n      <td>12</td>\n      <td>10</td>\n      <td>13</td>\n      <td>2</td>\n      <td>56</td>\n      <td>60</td>\n      <td>4</td>\n      <td>40</td>\n    </tr>\n    <tr>\n      <th>21</th>\n      <td>Consultation</td>\n      <td>Wednesday</td>\n      <td>12</td>\n      <td>18</td>\n      <td>8</td>\n      <td>12</td>\n      <td>2</td>\n      <td>60</td>\n      <td>66</td>\n      <td>6</td>\n      <td>48</td>\n    </tr>\n    <tr>\n      <th>22</th>\n      <td>Emergency</td>\n      <td>Thursday</td>\n      <td>2</td>\n      <td>8</td>\n      <td>3</td>\n      <td>5</td>\n      <td>3</td>\n      <td>74</td>\n      <td>80</td>\n      <td>6</td>\n      <td>18</td>\n    </tr>\n    <tr>\n      <th>23</th>\n      <td>Emergency</td>\n      <td>Thursday</td>\n      <td>8</td>\n      <td>12</td>\n      <td>4</td>\n      <td>7</td>\n      <td>3</td>\n      <td>80</td>\n      <td>84</td>\n      <td>4</td>\n      <td>16</td>\n    </tr>\n    <tr>\n      <th>24</th>\n      <td>Emergency</td>\n      <td>Thursday</td>\n      <td>12</td>\n      <td>18</td>\n      <td>2</td>\n      <td>5</td>\n      <td>3</td>\n      <td>84</td>\n      <td>90</td>\n      <td>6</td>\n      <td>12</td>\n    </tr>\n    <tr>\n      <th>25</th>\n      <td>Emergency</td>\n      <td>Thursday</td>\n      <td>18</td>\n      <td>2</td>\n      <td>3</td>\n      <td>7</td>\n      <td>3</td>\n      <td>90</td>\n      <td>98</td>\n      <td>8</td>\n      <td>24</td>\n    </tr>\n    <tr>\n      <th>26</th>\n      <td>Consultation</td>\n      <td>Thursday</td>\n      <td>8</td>\n      <td>12</td>\n      <td>10</td>\n      <td>13</td>\n      <td>3</td>\n      <td>80</td>\n      <td>84</td>\n      <td>4</td>\n      <td>40</td>\n    </tr>\n    <tr>\n      <th>27</th>\n      <td>Consultation</td>\n      <td>Thursday</td>\n      <td>12</td>\n      <td>18</td>\n      <td>8</td>\n      <td>12</td>\n      <td>3</td>\n      <td>84</td>\n      <td>90</td>\n      <td>6</td>\n      <td>48</td>\n    </tr>\n    <tr>\n      <th>28</th>\n      <td>Emergency</td>\n      <td>Friday</td>\n      <td>2</td>\n      <td>8</td>\n      <td>3</td>\n      <td>5</td>\n      <td>4</td>\n      <td>98</td>\n      <td>104</td>\n      <td>6</td>\n      <td>18</td>\n    </tr>\n    <tr>\n      <th>29</th>\n      <td>Emergency</td>\n      <td>Friday</td>\n      <td>8</td>\n      <td>12</td>\n      <td>4</td>\n      <td>7</td>\n      <td>4</td>\n      <td>104</td>\n      <td>108</td>\n      <td>4</td>\n      <td>16</td>\n    </tr>\n    <tr>\n      <th>30</th>\n      <td>Emergency</td>\n      <td>Friday</td>\n      <td>12</td>\n      <td>18</td>\n      <td>2</td>\n      <td>5</td>\n      <td>4</td>\n      <td>108</td>\n      <td>114</td>\n      <td>6</td>\n      <td>12</td>\n    </tr>\n    <tr>\n      <th>31</th>\n      <td>Emergency</td>\n      <td>Friday</td>\n      <td>18</td>\n      <td>2</td>\n      <td>3</td>\n      <td>7</td>\n      <td>4</td>\n      <td>114</td>\n      <td>122</td>\n      <td>8</td>\n      <td>24</td>\n    </tr>\n    <tr>\n      <th>32</th>\n      <td>Consultation</td>\n      <td>Friday</td>\n      <td>8</td>\n      <td>12</td>\n      <td>10</td>\n      <td>13</td>\n      <td>4</td>\n      <td>104</td>\n      <td>108</td>\n      <td>4</td>\n      <td>40</td>\n    </tr>\n    <tr>\n      <th>33</th>\n      <td>Consultation</td>\n      <td>Friday</td>\n      <td>12</td>\n      <td>18</td>\n      <td>8</td>\n      <td>12</td>\n      <td>4</td>\n      <td>108</td>\n      <td>114</td>\n      <td>6</td>\n      <td>48</td>\n    </tr>\n    <tr>\n      <th>34</th>\n      <td>Emergency</td>\n      <td>Saturday</td>\n      <td>2</td>\n      <td>12</td>\n      <td>5</td>\n      <td>7</td>\n      <td>5</td>\n      <td>122</td>\n      <td>132</td>\n      <td>10</td>\n      <td>50</td>\n    </tr>\n    <tr>\n      <th>35</th>\n      <td>Emergency</td>\n      <td>Saturday</td>\n      <td>12</td>\n      <td>20</td>\n      <td>7</td>\n      <td>9</td>\n      <td>5</td>\n      <td>132</td>\n      <td>140</td>\n      <td>8</td>\n      <td>56</td>\n    </tr>\n    <tr>\n      <th>36</th>\n      <td>Emergency</td>\n      <td>Saturday</td>\n      <td>20</td>\n      <td>2</td>\n      <td>12</td>\n      <td>12</td>\n      <td>5</td>\n      <td>140</td>\n      <td>146</td>\n      <td>6</td>\n      <td>72</td>\n    </tr>\n    <tr>\n      <th>37</th>\n      <td>Emergency</td>\n      <td>Sunday</td>\n      <td>2</td>\n      <td>12</td>\n      <td>5</td>\n      <td>7</td>\n      <td>6</td>\n      <td>146</td>\n      <td>156</td>\n      <td>10</td>\n      <td>50</td>\n    </tr>\n    <tr>\n      <th>38</th>\n      <td>Emergency</td>\n      <td>Sunday</td>\n      <td>12</td>\n      <td>20</td>\n      <td>7</td>\n      <td>9</td>\n      <td>6</td>\n      <td>156</td>\n      <td>164</td>\n      <td>8</td>\n      <td>56</td>\n    </tr>\n    <tr>\n      <th>39</th>\n      <td>Emergency</td>\n      <td>Sunday</td>\n      <td>20</td>\n      <td>2</td>\n      <td>8</td>\n      <td>12</td>\n      <td>6</td>\n      <td>164</td>\n      <td>170</td>\n      <td>6</td>\n      <td>48</td>\n    </tr>\n    <tr>\n      <th>40</th>\n      <td>Geriatrics</td>\n      <td>Sunday</td>\n      <td>8</td>\n      <td>10</td>\n      <td>2</td>\n      <td>5</td>\n      <td>6</td>\n      <td>152</td>\n      <td>154</td>\n      <td>2</td>\n      <td>4</td>\n    </tr>\n  </tbody>\n</table>\n</div>"
                    }, 
                    "execution_count": 13, 
                    "metadata": {}
                }
            ], 
            "execution_count": 13
        }, 
        {
            "source": "### Step 5: Set up the prescriptive model", 
            "cell_type": "markdown", 
            "metadata": {}
        }, 
        {
            "source": "from docplex.mp.environment import Environment\nenv = Environment()\nenv.print_information()", 
            "cell_type": "code", 
            "metadata": {}, 
            "outputs": [
                {
                    "output_type": "stream", 
                    "name": "stdout", 
                    "text": "* system is: Linux 64bit\n* Python is present, version is 2.7.11\n* docplex is present, version is (2, 6, 94)\n* CPLEX wrapper is not available\n"
                }
            ], 
            "execution_count": 14
        }, 
        {
            "source": "#### Create the DOcplex model\nThe model contains all the business constraints and defines the objective.\n\nWe now use CPLEX Modeling for Python to build a Mixed Integer Programming (MIP) model for this problem.", 
            "cell_type": "markdown", 
            "metadata": {}
        }, 
        {
            "source": "from docplex.mp.model import Model\nmdl = Model(name=\"nurses\")", 
            "cell_type": "code", 
            "metadata": {}, 
            "outputs": [], 
            "execution_count": 15
        }, 
        {
            "source": "#### Define the decision variables\n\nFor each (nurse, shift) pair, we create one binary variable that is equal to 1 when the nurse is assigned to the shift.\n\nWe use the `binary_var_matrix` method of class `Model`, as each binary variable is indexed by _two_ objects: one nurse and one shift.", 
            "cell_type": "markdown", 
            "metadata": {}
        }, 
        {
            "source": "# first global collections to iterate upon\nall_nurses = df_nurses.index.values\nall_shifts = df_shifts.index.values\n\n# the assignment variables.\nassigned = mdl.binary_var_matrix(keys1=all_nurses, keys2=all_shifts, name=\"assign_%s_%s\")", 
            "cell_type": "code", 
            "metadata": {}, 
            "outputs": [], 
            "execution_count": 16
        }, 
        {
            "source": "#### Express the business constraints\n\n#####  Overlapping shifts\n\nSome shifts overlap in time, and thus cannot be assigned to the same nurse.\nTo check whether two shifts overlap in time, we start by ordering all shifts with respect to their *wstart* and *duration* properties. Then, for each shift, we iterate over the subsequent shifts in this ordered list to easily compute the subset of overlapping shifts.\n\nWe use *pandas* operations to implement this algorithm. But first, we organize all decision variables in a DataFrame.\n\nFor convenience, we also organize the decision variables in a pivot table with *nurses* as row index and *shifts* as columns. The *pandas* *unstack* operation does this.", 
            "cell_type": "markdown", 
            "metadata": {}
        }, 
        {
            "source": "# Organize decision variables in a DataFrame\ndf_assigned = DataFrame({'assigned': assigned})\ndf_assigned.index.names=['all_nurses', 'all_shifts']\n\n# Re-organize the Data Frame as a pivot table with nurses as row index and shifts as columns:\ndf_assigned_pivot = df_assigned.unstack(level='all_shifts')\n\n# Create a pivot using nurses and shifts index as dimensions\n#df_assigned_pivot = df_assigned.reset_index().pivot(index='all_nurses', columns='all_shifts', values='assigned')\n\n# Display first rows of the pivot table\ndf_assigned_pivot.head()", 
            "cell_type": "code", 
            "metadata": {}, 
            "outputs": [
                {
                    "output_type": "execute_result", 
                    "data": {
                        "text/plain": "                     assigned                                        \\\nall_shifts                 0                  1                  2    \nall_nurses                                                            \nAnne            assign_Anne_0      assign_Anne_1      assign_Anne_2   \nBethanie    assign_Bethanie_0  assign_Bethanie_1  assign_Bethanie_2   \nBetsy          assign_Betsy_0     assign_Betsy_1     assign_Betsy_2   \nCathy          assign_Cathy_0     assign_Cathy_1     assign_Cathy_2   \nCecilia      assign_Cecilia_0   assign_Cecilia_1   assign_Cecilia_2   \n\n                                                                     \\\nall_shifts                 3                  4                  5    \nall_nurses                                                            \nAnne            assign_Anne_3      assign_Anne_4      assign_Anne_5   \nBethanie    assign_Bethanie_3  assign_Bethanie_4  assign_Bethanie_5   \nBetsy          assign_Betsy_3     assign_Betsy_4     assign_Betsy_5   \nCathy          assign_Cathy_3     assign_Cathy_4     assign_Cathy_5   \nCecilia      assign_Cecilia_3   assign_Cecilia_4   assign_Cecilia_5   \n\n                                                                     \\\nall_shifts                 6                  7                  8    \nall_nurses                                                            \nAnne            assign_Anne_6      assign_Anne_7      assign_Anne_8   \nBethanie    assign_Bethanie_6  assign_Bethanie_7  assign_Bethanie_8   \nBetsy          assign_Betsy_6     assign_Betsy_7     assign_Betsy_8   \nCathy          assign_Cathy_6     assign_Cathy_7     assign_Cathy_8   \nCecilia      assign_Cecilia_6   assign_Cecilia_7   assign_Cecilia_8   \n\n                                      ...                              \\\nall_shifts                 9          ...                          31   \nall_nurses                            ...                               \nAnne            assign_Anne_9         ...              assign_Anne_31   \nBethanie    assign_Bethanie_9         ...          assign_Bethanie_31   \nBetsy          assign_Betsy_9         ...             assign_Betsy_31   \nCathy          assign_Cathy_9         ...             assign_Cathy_31   \nCecilia      assign_Cecilia_9         ...           assign_Cecilia_31   \n\n                                                                        \\\nall_shifts                  32                  33                  34   \nall_nurses                                                               \nAnne            assign_Anne_32      assign_Anne_33      assign_Anne_34   \nBethanie    assign_Bethanie_32  assign_Bethanie_33  assign_Bethanie_34   \nBetsy          assign_Betsy_32     assign_Betsy_33     assign_Betsy_34   \nCathy          assign_Cathy_32     assign_Cathy_33     assign_Cathy_34   \nCecilia      assign_Cecilia_32   assign_Cecilia_33   assign_Cecilia_34   \n\n                                                                        \\\nall_shifts                  35                  36                  37   \nall_nurses                                                               \nAnne            assign_Anne_35      assign_Anne_36      assign_Anne_37   \nBethanie    assign_Bethanie_35  assign_Bethanie_36  assign_Bethanie_37   \nBetsy          assign_Betsy_35     assign_Betsy_36     assign_Betsy_37   \nCathy          assign_Cathy_35     assign_Cathy_36     assign_Cathy_37   \nCecilia      assign_Cecilia_35   assign_Cecilia_36   assign_Cecilia_37   \n\n                                                                        \nall_shifts                  38                  39                  40  \nall_nurses                                                              \nAnne            assign_Anne_38      assign_Anne_39      assign_Anne_40  \nBethanie    assign_Bethanie_38  assign_Bethanie_39  assign_Bethanie_40  \nBetsy          assign_Betsy_38     assign_Betsy_39     assign_Betsy_40  \nCathy          assign_Cathy_38     assign_Cathy_39     assign_Cathy_40  \nCecilia      assign_Cecilia_38   assign_Cecilia_39   assign_Cecilia_40  \n\n[5 rows x 41 columns]", 
                        "text/html": "<div>\n<table border=\"1\" class=\"dataframe\">\n  <thead>\n    <tr>\n      <th></th>\n      <th colspan=\"21\" halign=\"left\">assigned</th>\n    </tr>\n    <tr>\n      <th>all_shifts</th>\n      <th>0</th>\n      <th>1</th>\n      <th>2</th>\n      <th>3</th>\n      <th>4</th>\n      <th>5</th>\n      <th>6</th>\n      <th>7</th>\n      <th>8</th>\n      <th>9</th>\n      <th>...</th>\n      <th>31</th>\n      <th>32</th>\n      <th>33</th>\n      <th>34</th>\n      <th>35</th>\n      <th>36</th>\n      <th>37</th>\n      <th>38</th>\n      <th>39</th>\n      <th>40</th>\n    </tr>\n    <tr>\n      <th>all_nurses</th>\n      <th></th>\n      <th></th>\n      <th></th>\n      <th></th>\n      <th></th>\n      <th></th>\n      <th></th>\n      <th></th>\n      <th></th>\n      <th></th>\n      <th></th>\n      <th></th>\n      <th></th>\n      <th></th>\n      <th></th>\n      <th></th>\n      <th></th>\n      <th></th>\n      <th></th>\n      <th></th>\n      <th></th>\n    </tr>\n  </thead>\n  <tbody>\n    <tr>\n      <th>Anne</th>\n      <td>assign_Anne_0</td>\n      <td>assign_Anne_1</td>\n      <td>assign_Anne_2</td>\n      <td>assign_Anne_3</td>\n      <td>assign_Anne_4</td>\n      <td>assign_Anne_5</td>\n      <td>assign_Anne_6</td>\n      <td>assign_Anne_7</td>\n      <td>assign_Anne_8</td>\n      <td>assign_Anne_9</td>\n      <td>...</td>\n      <td>assign_Anne_31</td>\n      <td>assign_Anne_32</td>\n      <td>assign_Anne_33</td>\n      <td>assign_Anne_34</td>\n      <td>assign_Anne_35</td>\n      <td>assign_Anne_36</td>\n      <td>assign_Anne_37</td>\n      <td>assign_Anne_38</td>\n      <td>assign_Anne_39</td>\n      <td>assign_Anne_40</td>\n    </tr>\n    <tr>\n      <th>Bethanie</th>\n      <td>assign_Bethanie_0</td>\n      <td>assign_Bethanie_1</td>\n      <td>assign_Bethanie_2</td>\n      <td>assign_Bethanie_3</td>\n      <td>assign_Bethanie_4</td>\n      <td>assign_Bethanie_5</td>\n      <td>assign_Bethanie_6</td>\n      <td>assign_Bethanie_7</td>\n      <td>assign_Bethanie_8</td>\n      <td>assign_Bethanie_9</td>\n      <td>...</td>\n      <td>assign_Bethanie_31</td>\n      <td>assign_Bethanie_32</td>\n      <td>assign_Bethanie_33</td>\n      <td>assign_Bethanie_34</td>\n      <td>assign_Bethanie_35</td>\n      <td>assign_Bethanie_36</td>\n      <td>assign_Bethanie_37</td>\n      <td>assign_Bethanie_38</td>\n      <td>assign_Bethanie_39</td>\n      <td>assign_Bethanie_40</td>\n    </tr>\n    <tr>\n      <th>Betsy</th>\n      <td>assign_Betsy_0</td>\n      <td>assign_Betsy_1</td>\n      <td>assign_Betsy_2</td>\n      <td>assign_Betsy_3</td>\n      <td>assign_Betsy_4</td>\n      <td>assign_Betsy_5</td>\n      <td>assign_Betsy_6</td>\n      <td>assign_Betsy_7</td>\n      <td>assign_Betsy_8</td>\n      <td>assign_Betsy_9</td>\n      <td>...</td>\n      <td>assign_Betsy_31</td>\n      <td>assign_Betsy_32</td>\n      <td>assign_Betsy_33</td>\n      <td>assign_Betsy_34</td>\n      <td>assign_Betsy_35</td>\n      <td>assign_Betsy_36</td>\n      <td>assign_Betsy_37</td>\n      <td>assign_Betsy_38</td>\n      <td>assign_Betsy_39</td>\n      <td>assign_Betsy_40</td>\n    </tr>\n    <tr>\n      <th>Cathy</th>\n      <td>assign_Cathy_0</td>\n      <td>assign_Cathy_1</td>\n      <td>assign_Cathy_2</td>\n      <td>assign_Cathy_3</td>\n      <td>assign_Cathy_4</td>\n      <td>assign_Cathy_5</td>\n      <td>assign_Cathy_6</td>\n      <td>assign_Cathy_7</td>\n      <td>assign_Cathy_8</td>\n      <td>assign_Cathy_9</td>\n      <td>...</td>\n      <td>assign_Cathy_31</td>\n      <td>assign_Cathy_32</td>\n      <td>assign_Cathy_33</td>\n      <td>assign_Cathy_34</td>\n      <td>assign_Cathy_35</td>\n      <td>assign_Cathy_36</td>\n      <td>assign_Cathy_37</td>\n      <td>assign_Cathy_38</td>\n      <td>assign_Cathy_39</td>\n      <td>assign_Cathy_40</td>\n    </tr>\n    <tr>\n      <th>Cecilia</th>\n      <td>assign_Cecilia_0</td>\n      <td>assign_Cecilia_1</td>\n      <td>assign_Cecilia_2</td>\n      <td>assign_Cecilia_3</td>\n      <td>assign_Cecilia_4</td>\n      <td>assign_Cecilia_5</td>\n      <td>assign_Cecilia_6</td>\n      <td>assign_Cecilia_7</td>\n      <td>assign_Cecilia_8</td>\n      <td>assign_Cecilia_9</td>\n      <td>...</td>\n      <td>assign_Cecilia_31</td>\n      <td>assign_Cecilia_32</td>\n      <td>assign_Cecilia_33</td>\n      <td>assign_Cecilia_34</td>\n      <td>assign_Cecilia_35</td>\n      <td>assign_Cecilia_36</td>\n      <td>assign_Cecilia_37</td>\n      <td>assign_Cecilia_38</td>\n      <td>assign_Cecilia_39</td>\n      <td>assign_Cecilia_40</td>\n    </tr>\n  </tbody>\n</table>\n<p>5 rows \u00d7 41 columns</p>\n</div>"
                    }, 
                    "execution_count": 17, 
                    "metadata": {}
                }
            ], 
            "execution_count": 17
        }, 
        {
            "source": "We create a DataFrame representing a list of shifts sorted by *\"wstart\"* and *\"duration\"*.\nThis sorted list will be used to easily detect overlapping shifts.\n\nNote that indices are reset after sorting so that the DataFrame can be indexed with respect to\nthe index in the sorted list and not the original unsorted list. This is the purpose of the *reset_index()*\noperation which also adds a new column named *\"shiftId\"* with the original index.", 
            "cell_type": "markdown", 
            "metadata": {}
        }, 
        {
            "source": "# Create a Data Frame representing a list of shifts sorted by wstart and duration.\n# One keeps only the three relevant columns: 'shiftId', 'wstart' and 'wend' in the resulting Data Frame \ndf_sorted_shifts = df_shifts.sort_values(['wstart','duration']).reset_index()[['shiftId', 'wstart', 'wend']]\n\n# Display the first rows of the newly created Data Frame\ndf_sorted_shifts.head()", 
            "cell_type": "code", 
            "metadata": {}, 
            "outputs": [
                {
                    "output_type": "execute_result", 
                    "data": {
                        "text/plain": "   shiftId  wstart  wend\n0        0       2     8\n1        1       8    12\n2        4       8    12\n3        6       8    12\n4        2      12    18", 
                        "text/html": "<div>\n<table border=\"1\" class=\"dataframe\">\n  <thead>\n    <tr style=\"text-align: right;\">\n      <th></th>\n      <th>shiftId</th>\n      <th>wstart</th>\n      <th>wend</th>\n    </tr>\n  </thead>\n  <tbody>\n    <tr>\n      <th>0</th>\n      <td>0</td>\n      <td>2</td>\n      <td>8</td>\n    </tr>\n    <tr>\n      <th>1</th>\n      <td>1</td>\n      <td>8</td>\n      <td>12</td>\n    </tr>\n    <tr>\n      <th>2</th>\n      <td>4</td>\n      <td>8</td>\n      <td>12</td>\n    </tr>\n    <tr>\n      <th>3</th>\n      <td>6</td>\n      <td>8</td>\n      <td>12</td>\n    </tr>\n    <tr>\n      <th>4</th>\n      <td>2</td>\n      <td>12</td>\n      <td>18</td>\n    </tr>\n  </tbody>\n</table>\n</div>"
                    }, 
                    "execution_count": 18, 
                    "metadata": {}
                }
            ], 
            "execution_count": 18
        }, 
        {
            "source": "Next, we state that for any pair of shifts that overlap in time, a nurse can be assigned to only one of the two.", 
            "cell_type": "markdown", 
            "metadata": {}
        }, 
        {
            "source": "number_of_incompatible_shift_constraints = 0\nfor shift in df_sorted_shifts.itertuples():\n    # Iterate over following shifts\n    # 'shift[0]' contains the index of the current shift in the df_sorted_shifts Data Frame\n    for shift_2 in df_sorted_shifts.iloc[shift[0] + 1:].itertuples():\n        if (shift_2.wstart < shift.wend):\n            # Iterate over all nurses to force incompatible assignment for the current pair of overlapping shifts\n            for nurse_assignments in df_assigned_pivot[[shift.shiftId, shift_2.shiftId]].itertuples():\n                # this is actually a logical OR\n                mdl.add_constraint(nurse_assignments[1] + nurse_assignments[2] <= 1)\n                number_of_incompatible_shift_constraints += 1\n        else:\n            # No need to test overlap with following shifts\n            break\nprint(\"#incompatible shift constraints: {}\".format(number_of_incompatible_shift_constraints))", 
            "cell_type": "code", 
            "metadata": {}, 
            "outputs": [
                {
                    "output_type": "stream", 
                    "name": "stdout", 
                    "text": "#incompatible shift constraints: 640\n"
                }
            ], 
            "execution_count": 19
        }, 
        {
            "source": "##### Vacations\n\nWhen the nurse is on vacation, he cannot be assigned to any shift starting that day.\n\nWe use the *pandas* *merge* operation to create a join between the *\"df_vacations\"*, *\"df_shifts\"*, and *\"df_assigned\"* DataFrames. Each row of the resulting DataFrame contains the assignment decision variable corresponding to the matching (nurse, shift) pair.", 
            "cell_type": "markdown", 
            "metadata": {}
        }, 
        {
            "source": "# Add 'day of week' column to vacations Data Frame\ndf_vacations['dow'] = df_vacations.day.apply(day_to_day_of_week)\n\n# Join 'df_vacations', 'df_shifts' and 'df_assigned' Data Frames to create the list of 'forbidden' assigments.\n# The 'reset_index()' function is invoked to move 'shiftId' index as a column in 'df_shifts' Data Frame, and\n# to move the index pair ('all_nurses', 'all_shifts') as columns in 'df_assigned' Data Frame.\n# 'reset_index()' is invoked so that a join can be performed between Data Frame, based on column names.\ndf_assigned_reindexed = df_assigned.reset_index()\ndf_vacation_forbidden_assignments = df_vacations.merge(df_shifts.reset_index()[['dow', 'shiftId']]).merge(\n    df_assigned_reindexed, left_on=['nurse', 'shiftId'], right_on=['all_nurses', 'all_shifts'])\n\n# Here are the first few rows of the resulting Data Frames joins\ndf_vacation_forbidden_assignments.head()", 
            "cell_type": "code", 
            "metadata": {}, 
            "outputs": [
                {
                    "output_type": "execute_result", 
                    "data": {
                        "text/plain": "  nurse     day  dow  shiftId all_nurses  all_shifts        assigned\n0  Anne  Friday    4       28       Anne          28  assign_Anne_28\n1  Anne  Friday    4       29       Anne          29  assign_Anne_29\n2  Anne  Friday    4       30       Anne          30  assign_Anne_30\n3  Anne  Friday    4       31       Anne          31  assign_Anne_31\n4  Anne  Friday    4       32       Anne          32  assign_Anne_32", 
                        "text/html": "<div>\n<table border=\"1\" class=\"dataframe\">\n  <thead>\n    <tr style=\"text-align: right;\">\n      <th></th>\n      <th>nurse</th>\n      <th>day</th>\n      <th>dow</th>\n      <th>shiftId</th>\n      <th>all_nurses</th>\n      <th>all_shifts</th>\n      <th>assigned</th>\n    </tr>\n  </thead>\n  <tbody>\n    <tr>\n      <th>0</th>\n      <td>Anne</td>\n      <td>Friday</td>\n      <td>4</td>\n      <td>28</td>\n      <td>Anne</td>\n      <td>28</td>\n      <td>assign_Anne_28</td>\n    </tr>\n    <tr>\n      <th>1</th>\n      <td>Anne</td>\n      <td>Friday</td>\n      <td>4</td>\n      <td>29</td>\n      <td>Anne</td>\n      <td>29</td>\n      <td>assign_Anne_29</td>\n    </tr>\n    <tr>\n      <th>2</th>\n      <td>Anne</td>\n      <td>Friday</td>\n      <td>4</td>\n      <td>30</td>\n      <td>Anne</td>\n      <td>30</td>\n      <td>assign_Anne_30</td>\n    </tr>\n    <tr>\n      <th>3</th>\n      <td>Anne</td>\n      <td>Friday</td>\n      <td>4</td>\n      <td>31</td>\n      <td>Anne</td>\n      <td>31</td>\n      <td>assign_Anne_31</td>\n    </tr>\n    <tr>\n      <th>4</th>\n      <td>Anne</td>\n      <td>Friday</td>\n      <td>4</td>\n      <td>32</td>\n      <td>Anne</td>\n      <td>32</td>\n      <td>assign_Anne_32</td>\n    </tr>\n  </tbody>\n</table>\n</div>"
                    }, 
                    "execution_count": 20, 
                    "metadata": {}
                }
            ], 
            "execution_count": 20
        }, 
        {
            "source": "for forbidden_assignment in df_vacation_forbidden_assignments.itertuples():\n    # to forbid an assignment just set the variable to zero.\n    mdl.add_constraint(forbidden_assignment.assigned == 0)\nprint(\"# vacation forbids: {} assignments\".format(len(df_vacation_forbidden_assignments)))", 
            "cell_type": "code", 
            "metadata": {}, 
            "outputs": [
                {
                    "output_type": "stream", 
                    "name": "stdout", 
                    "text": "# vacation forbids: 342 assignments\n"
                }
            ], 
            "execution_count": 21
        }, 
        {
            "source": "##### Associations\n\nSome pairs of nurses get along particularly well, so we wish to assign them together as a team. In other words, for every such couple and for each shift, both assignment variables should always be equal.\nEither both nurses work the shift, or both do not.\n\nIn the same way we modeled *vacations*, we use the *pandas* merge operation to create a DataFrame for which each row contains the pair of nurse-shift assignment decision variables matching each association.", 
            "cell_type": "markdown", 
            "metadata": {}
        }, 
        {
            "source": "# Join 'df_assignment' Data Frame twice, based on associations to get corresponding decision variables pairs for all shifts\n# The 'suffixes' parameter in the second merge indicates our preference for updating the name of columns that occur both\n# in the first and second argument Data Frames (in our case, these columns are 'all_nurses' and 'assigned').\ndf_preferred_assign = df_associations.merge(\n    df_assigned_reindexed, left_on='nurse1', right_on='all_nurses').merge(\n    df_assigned_reindexed, left_on=['nurse2', 'all_shifts'], right_on=['all_nurses', 'all_shifts'], suffixes=('_1','_2'))\n\n# Here are the first few rows of the resulting Data Frames joins\ndf_preferred_assign.head()", 
            "cell_type": "code", 
            "metadata": {}, 
            "outputs": [
                {
                    "output_type": "execute_result", 
                    "data": {
                        "text/plain": "     nurse1 nurse2 all_nurses_1  all_shifts         assigned_1 all_nurses_2  \\\n0  Isabelle    Dee     Isabelle           0  assign_Isabelle_0          Dee   \n1  Isabelle    Dee     Isabelle           1  assign_Isabelle_1          Dee   \n2  Isabelle    Dee     Isabelle           2  assign_Isabelle_2          Dee   \n3  Isabelle    Dee     Isabelle           3  assign_Isabelle_3          Dee   \n4  Isabelle    Dee     Isabelle           4  assign_Isabelle_4          Dee   \n\n     assigned_2  \n0  assign_Dee_0  \n1  assign_Dee_1  \n2  assign_Dee_2  \n3  assign_Dee_3  \n4  assign_Dee_4  ", 
                        "text/html": "<div>\n<table border=\"1\" class=\"dataframe\">\n  <thead>\n    <tr style=\"text-align: right;\">\n      <th></th>\n      <th>nurse1</th>\n      <th>nurse2</th>\n      <th>all_nurses_1</th>\n      <th>all_shifts</th>\n      <th>assigned_1</th>\n      <th>all_nurses_2</th>\n      <th>assigned_2</th>\n    </tr>\n  </thead>\n  <tbody>\n    <tr>\n      <th>0</th>\n      <td>Isabelle</td>\n      <td>Dee</td>\n      <td>Isabelle</td>\n      <td>0</td>\n      <td>assign_Isabelle_0</td>\n      <td>Dee</td>\n      <td>assign_Dee_0</td>\n    </tr>\n    <tr>\n      <th>1</th>\n      <td>Isabelle</td>\n      <td>Dee</td>\n      <td>Isabelle</td>\n      <td>1</td>\n      <td>assign_Isabelle_1</td>\n      <td>Dee</td>\n      <td>assign_Dee_1</td>\n    </tr>\n    <tr>\n      <th>2</th>\n      <td>Isabelle</td>\n      <td>Dee</td>\n      <td>Isabelle</td>\n      <td>2</td>\n      <td>assign_Isabelle_2</td>\n      <td>Dee</td>\n      <td>assign_Dee_2</td>\n    </tr>\n    <tr>\n      <th>3</th>\n      <td>Isabelle</td>\n      <td>Dee</td>\n      <td>Isabelle</td>\n      <td>3</td>\n      <td>assign_Isabelle_3</td>\n      <td>Dee</td>\n      <td>assign_Dee_3</td>\n    </tr>\n    <tr>\n      <th>4</th>\n      <td>Isabelle</td>\n      <td>Dee</td>\n      <td>Isabelle</td>\n      <td>4</td>\n      <td>assign_Isabelle_4</td>\n      <td>Dee</td>\n      <td>assign_Dee_4</td>\n    </tr>\n  </tbody>\n</table>\n</div>"
                    }, 
                    "execution_count": 22, 
                    "metadata": {}
                }
            ], 
            "execution_count": 22
        }, 
        {
            "source": "The associations constraint can now easily be formulated by iterating on the rows of the *\"df_preferred_assign\"* DataFrame.", 
            "cell_type": "markdown", 
            "metadata": {}
        }, 
        {
            "source": "for preferred_assign in df_preferred_assign.itertuples():\n    mdl.add_constraint(preferred_assign.assigned_1 == preferred_assign.assigned_2)", 
            "cell_type": "code", 
            "metadata": {}, 
            "outputs": [], 
            "execution_count": 23
        }, 
        {
            "source": "##### Incompatibilities\n\nSimilarly, certain pairs of nurses do not get along well, and we want to avoid having them together on a shift.\nIn other terms, for each shift, both nurses of an incompatible pair cannot be assigned together to the sift. Again, we state a logical OR between the two assignments: at most one nurse from the pair can work the shift.\n\nWe first create a DataFrame whose rows contain pairs of invalid assignment decision variables, using the same *pandas* `merge` operations as in the previous step.", 
            "cell_type": "markdown", 
            "metadata": {}
        }, 
        {
            "source": "# Join assignment Data Frame twice, based on incompatibilities Data Frame to get corresponding decision variables pairs\n#  for all shifts\ndf_incompatible_assign = df_incompatibilities.merge(\n    df_assigned_reindexed, left_on='nurse1', right_on='all_nurses').merge(\n    df_assigned_reindexed, left_on=['nurse2', 'all_shifts'], right_on=['all_nurses', 'all_shifts'], suffixes=('_1','_2'))\n\n# Here are the first few rows of the resulting Data Frames joins\ndf_incompatible_assign.head()", 
            "cell_type": "code", 
            "metadata": {}, 
            "outputs": [
                {
                    "output_type": "execute_result", 
                    "data": {
                        "text/plain": "     nurse1   nurse2 all_nurses_1  all_shifts         assigned_1 all_nurses_2  \\\n0  Patricia  Patrick     Patricia           0  assign_Patricia_0      Patrick   \n1  Patricia  Patrick     Patricia           1  assign_Patricia_1      Patrick   \n2  Patricia  Patrick     Patricia           2  assign_Patricia_2      Patrick   \n3  Patricia  Patrick     Patricia           3  assign_Patricia_3      Patrick   \n4  Patricia  Patrick     Patricia           4  assign_Patricia_4      Patrick   \n\n         assigned_2  \n0  assign_Patrick_0  \n1  assign_Patrick_1  \n2  assign_Patrick_2  \n3  assign_Patrick_3  \n4  assign_Patrick_4  ", 
                        "text/html": "<div>\n<table border=\"1\" class=\"dataframe\">\n  <thead>\n    <tr style=\"text-align: right;\">\n      <th></th>\n      <th>nurse1</th>\n      <th>nurse2</th>\n      <th>all_nurses_1</th>\n      <th>all_shifts</th>\n      <th>assigned_1</th>\n      <th>all_nurses_2</th>\n      <th>assigned_2</th>\n    </tr>\n  </thead>\n  <tbody>\n    <tr>\n      <th>0</th>\n      <td>Patricia</td>\n      <td>Patrick</td>\n      <td>Patricia</td>\n      <td>0</td>\n      <td>assign_Patricia_0</td>\n      <td>Patrick</td>\n      <td>assign_Patrick_0</td>\n    </tr>\n    <tr>\n      <th>1</th>\n      <td>Patricia</td>\n      <td>Patrick</td>\n      <td>Patricia</td>\n      <td>1</td>\n      <td>assign_Patricia_1</td>\n      <td>Patrick</td>\n      <td>assign_Patrick_1</td>\n    </tr>\n    <tr>\n      <th>2</th>\n      <td>Patricia</td>\n      <td>Patrick</td>\n      <td>Patricia</td>\n      <td>2</td>\n      <td>assign_Patricia_2</td>\n      <td>Patrick</td>\n      <td>assign_Patrick_2</td>\n    </tr>\n    <tr>\n      <th>3</th>\n      <td>Patricia</td>\n      <td>Patrick</td>\n      <td>Patricia</td>\n      <td>3</td>\n      <td>assign_Patricia_3</td>\n      <td>Patrick</td>\n      <td>assign_Patrick_3</td>\n    </tr>\n    <tr>\n      <th>4</th>\n      <td>Patricia</td>\n      <td>Patrick</td>\n      <td>Patricia</td>\n      <td>4</td>\n      <td>assign_Patricia_4</td>\n      <td>Patrick</td>\n      <td>assign_Patrick_4</td>\n    </tr>\n  </tbody>\n</table>\n</div>"
                    }, 
                    "execution_count": 24, 
                    "metadata": {}
                }
            ], 
            "execution_count": 24
        }, 
        {
            "source": "The incompatibilities constraint can now easily be formulated, by iterating on the rows of the *\"df_incompatible_assign\"* DataFrame.", 
            "cell_type": "markdown", 
            "metadata": {}
        }, 
        {
            "source": "for incompatible_assign in df_incompatible_assign.itertuples():\n    mdl.add_constraint(incompatible_assign.assigned_1 + incompatible_assign.assigned_2 <= 1)", 
            "cell_type": "code", 
            "metadata": {}, 
            "outputs": [], 
            "execution_count": 25
        }, 
        {
            "source": "##### Constraints on work time\n\nRegulations force constraints on the total work time over a week;\nand we compute this total work time in a new variable. We store the variable in an extra column in the nurse DataFrame.\n\nThe variable is declared as _continuous_ though it contains only integer values. This is done to avoid adding unnecessary integer variables for the _branch and bound_ algorithm. \nThese variables are not true decision variables; they are used to express work constraints.\n\nFrom a *pandas* perspective, we apply a function over the rows of the nurse DataFrame to create this variable and store it into a new column of the DataFrame.", 
            "cell_type": "markdown", 
            "metadata": {}
        }, 
        {
            "source": "# auxiliary function to create worktime variable from a row\ndef make_var(row, varname_fmt):\n    return mdl.continuous_var(name=varname_fmt % row.name, lb=0)\n\n# apply the function over nurse rows and store result in a new column\ndf_nurses[\"worktime\"] = df_nurses.apply(lambda r: make_var(r, \"worktime_%s\"), axis=1)\n\n# display nurse dataframe\ndf_nurses", 
            "cell_type": "code", 
            "metadata": {}, 
            "outputs": [
                {
                    "output_type": "execute_result", 
                    "data": {
                        "text/plain": "          seniority  qualification  pay_rate           worktime\nname                                                           \nAnne             11              1        25      worktime_Anne\nBethanie          4              5        28  worktime_Bethanie\nBetsy             2              2        17     worktime_Betsy\nCathy             2              2        17     worktime_Cathy\nCecilia           9              5        38   worktime_Cecilia\nChris            11              4        38     worktime_Chris\nCindy             5              2        21     worktime_Cindy\nDavid             1              2        15     worktime_David\nDebbie            7              2        24    worktime_Debbie\nDee               3              3        21       worktime_Dee\nGloria            8              2        25    worktime_Gloria\nIsabelle          3              1        16  worktime_Isabelle\nJane              3              4        23      worktime_Jane\nJanelle           4              3        22   worktime_Janelle\nJanice            2              2        17    worktime_Janice\nJemma             2              4        22     worktime_Jemma\nJoan              5              3        24      worktime_Joan\nJoyce             8              3        29     worktime_Joyce\nJude              4              3        22      worktime_Jude\nJulie             6              2        22     worktime_Julie\nJuliet            7              4        31    worktime_Juliet\nKate              5              3        24      worktime_Kate\nNancy             8              4        32     worktime_Nancy\nNathalie          9              5        38  worktime_Nathalie\nNicole            0              2        14    worktime_Nicole\nPatricia          1              1        13  worktime_Patricia\nPatrick           6              1        19   worktime_Patrick\nRoberta           3              5        26   worktime_Roberta\nSuzanne           5              1        18   worktime_Suzanne\nVickie            7              1        20    worktime_Vickie\nWendie            5              2        21    worktime_Wendie\nZoe               8              3        29       worktime_Zoe", 
                        "text/html": "<div>\n<table border=\"1\" class=\"dataframe\">\n  <thead>\n    <tr style=\"text-align: right;\">\n      <th></th>\n      <th>seniority</th>\n      <th>qualification</th>\n      <th>pay_rate</th>\n      <th>worktime</th>\n    </tr>\n    <tr>\n      <th>name</th>\n      <th></th>\n      <th></th>\n      <th></th>\n      <th></th>\n    </tr>\n  </thead>\n  <tbody>\n    <tr>\n      <th>Anne</th>\n      <td>11</td>\n      <td>1</td>\n      <td>25</td>\n      <td>worktime_Anne</td>\n    </tr>\n    <tr>\n      <th>Bethanie</th>\n      <td>4</td>\n      <td>5</td>\n      <td>28</td>\n      <td>worktime_Bethanie</td>\n    </tr>\n    <tr>\n      <th>Betsy</th>\n      <td>2</td>\n      <td>2</td>\n      <td>17</td>\n      <td>worktime_Betsy</td>\n    </tr>\n    <tr>\n      <th>Cathy</th>\n      <td>2</td>\n      <td>2</td>\n      <td>17</td>\n      <td>worktime_Cathy</td>\n    </tr>\n    <tr>\n      <th>Cecilia</th>\n      <td>9</td>\n      <td>5</td>\n      <td>38</td>\n      <td>worktime_Cecilia</td>\n    </tr>\n    <tr>\n      <th>Chris</th>\n      <td>11</td>\n      <td>4</td>\n      <td>38</td>\n      <td>worktime_Chris</td>\n    </tr>\n    <tr>\n      <th>Cindy</th>\n      <td>5</td>\n      <td>2</td>\n      <td>21</td>\n      <td>worktime_Cindy</td>\n    </tr>\n    <tr>\n      <th>David</th>\n      <td>1</td>\n      <td>2</td>\n      <td>15</td>\n      <td>worktime_David</td>\n    </tr>\n    <tr>\n      <th>Debbie</th>\n      <td>7</td>\n      <td>2</td>\n      <td>24</td>\n      <td>worktime_Debbie</td>\n    </tr>\n    <tr>\n      <th>Dee</th>\n      <td>3</td>\n      <td>3</td>\n      <td>21</td>\n      <td>worktime_Dee</td>\n    </tr>\n    <tr>\n      <th>Gloria</th>\n      <td>8</td>\n      <td>2</td>\n      <td>25</td>\n      <td>worktime_Gloria</td>\n    </tr>\n    <tr>\n      <th>Isabelle</th>\n      <td>3</td>\n      <td>1</td>\n      <td>16</td>\n      <td>worktime_Isabelle</td>\n    </tr>\n    <tr>\n      <th>Jane</th>\n      <td>3</td>\n      <td>4</td>\n      <td>23</td>\n      <td>worktime_Jane</td>\n    </tr>\n    <tr>\n      <th>Janelle</th>\n      <td>4</td>\n      <td>3</td>\n      <td>22</td>\n      <td>worktime_Janelle</td>\n    </tr>\n    <tr>\n      <th>Janice</th>\n      <td>2</td>\n      <td>2</td>\n      <td>17</td>\n      <td>worktime_Janice</td>\n    </tr>\n    <tr>\n      <th>Jemma</th>\n      <td>2</td>\n      <td>4</td>\n      <td>22</td>\n      <td>worktime_Jemma</td>\n    </tr>\n    <tr>\n      <th>Joan</th>\n      <td>5</td>\n      <td>3</td>\n      <td>24</td>\n      <td>worktime_Joan</td>\n    </tr>\n    <tr>\n      <th>Joyce</th>\n      <td>8</td>\n      <td>3</td>\n      <td>29</td>\n      <td>worktime_Joyce</td>\n    </tr>\n    <tr>\n      <th>Jude</th>\n      <td>4</td>\n      <td>3</td>\n      <td>22</td>\n      <td>worktime_Jude</td>\n    </tr>\n    <tr>\n      <th>Julie</th>\n      <td>6</td>\n      <td>2</td>\n      <td>22</td>\n      <td>worktime_Julie</td>\n    </tr>\n    <tr>\n      <th>Juliet</th>\n      <td>7</td>\n      <td>4</td>\n      <td>31</td>\n      <td>worktime_Juliet</td>\n    </tr>\n    <tr>\n      <th>Kate</th>\n      <td>5</td>\n      <td>3</td>\n      <td>24</td>\n      <td>worktime_Kate</td>\n    </tr>\n    <tr>\n      <th>Nancy</th>\n      <td>8</td>\n      <td>4</td>\n      <td>32</td>\n      <td>worktime_Nancy</td>\n    </tr>\n    <tr>\n      <th>Nathalie</th>\n      <td>9</td>\n      <td>5</td>\n      <td>38</td>\n      <td>worktime_Nathalie</td>\n    </tr>\n    <tr>\n      <th>Nicole</th>\n      <td>0</td>\n      <td>2</td>\n      <td>14</td>\n      <td>worktime_Nicole</td>\n    </tr>\n    <tr>\n      <th>Patricia</th>\n      <td>1</td>\n      <td>1</td>\n      <td>13</td>\n      <td>worktime_Patricia</td>\n    </tr>\n    <tr>\n      <th>Patrick</th>\n      <td>6</td>\n      <td>1</td>\n      <td>19</td>\n      <td>worktime_Patrick</td>\n    </tr>\n    <tr>\n      <th>Roberta</th>\n      <td>3</td>\n      <td>5</td>\n      <td>26</td>\n      <td>worktime_Roberta</td>\n    </tr>\n    <tr>\n      <th>Suzanne</th>\n      <td>5</td>\n      <td>1</td>\n      <td>18</td>\n      <td>worktime_Suzanne</td>\n    </tr>\n    <tr>\n      <th>Vickie</th>\n      <td>7</td>\n      <td>1</td>\n      <td>20</td>\n      <td>worktime_Vickie</td>\n    </tr>\n    <tr>\n      <th>Wendie</th>\n      <td>5</td>\n      <td>2</td>\n      <td>21</td>\n      <td>worktime_Wendie</td>\n    </tr>\n    <tr>\n      <th>Zoe</th>\n      <td>8</td>\n      <td>3</td>\n      <td>29</td>\n      <td>worktime_Zoe</td>\n    </tr>\n  </tbody>\n</table>\n</div>"
                    }, 
                    "execution_count": 26, 
                    "metadata": {}
                }
            ], 
            "execution_count": 26
        }, 
        {
            "source": "###### Define total work time\n\nWork time variables must be constrained to be equal to the sum of hours actually worked.\n\nWe use the *pandas* *groupby* operation to collect all assignment decision variables for each nurse in a separate series. Then, we iterate over nurses to post a constraint calculating the actual worktime for each nurse as the dot product of the series of nurse-shift assignments with the series of shift durations.", 
            "cell_type": "markdown", 
            "metadata": {}
        }, 
        {
            "source": "# Use pandas' groupby operation to enforce constraint calculating worktime for each nurse as the sum of all assigned\n#  shifts times the duration of each shift\nfor nurse, nurse_assignments in df_assigned.groupby(level='all_nurses'):\n    mdl.add_constraint(df_nurses.worktime[nurse] == mdl.dot(nurse_assignments.assigned, df_shifts.duration))\n                       \n# print model information and check we now have 32 extra continuous variables\nmdl.print_information()", 
            "cell_type": "code", 
            "metadata": {}, 
            "outputs": [
                {
                    "output_type": "stream", 
                    "name": "stdout", 
                    "text": "Model: nurses\n - number of variables: 1344\n   - binary=1312, integer=0, continuous=32\n - number of constraints: 1547\n   - linear=1547\n - parameters: defaults\n"
                }
            ], 
            "execution_count": 27
        }, 
        {
            "source": "###### Maximum work time\n\nFor each nurse, we add a constraint to enforce the maximum work time for a week.\nAgain we use the `apply` method, this time with an anonymous lambda function.", 
            "cell_type": "markdown", 
            "metadata": {}
        }, 
        {
            "source": "# we use pandas' apply() method to set an upper bound on all worktime variables.\ndef set_max_work_time(v):\n    v.ub = max_work_time\n    # Optionally: return a string for fancy display of the constraint in the Output cell\n    return str(v) + ' <= ' + str(v.ub)\n\ndf_nurses[\"worktime\"].apply(convert_dtype=False, func=set_max_work_time)", 
            "cell_type": "code", 
            "metadata": {}, 
            "outputs": [
                {
                    "output_type": "execute_result", 
                    "data": {
                        "text/plain": "name\nAnne            worktime_Anne <= 40\nBethanie    worktime_Bethanie <= 40\nBetsy          worktime_Betsy <= 40\nCathy          worktime_Cathy <= 40\nCecilia      worktime_Cecilia <= 40\nChris          worktime_Chris <= 40\nCindy          worktime_Cindy <= 40\nDavid          worktime_David <= 40\nDebbie        worktime_Debbie <= 40\nDee              worktime_Dee <= 40\nGloria        worktime_Gloria <= 40\nIsabelle    worktime_Isabelle <= 40\nJane            worktime_Jane <= 40\nJanelle      worktime_Janelle <= 40\nJanice        worktime_Janice <= 40\nJemma          worktime_Jemma <= 40\nJoan            worktime_Joan <= 40\nJoyce          worktime_Joyce <= 40\nJude            worktime_Jude <= 40\nJulie          worktime_Julie <= 40\nJuliet        worktime_Juliet <= 40\nKate            worktime_Kate <= 40\nNancy          worktime_Nancy <= 40\nNathalie    worktime_Nathalie <= 40\nNicole        worktime_Nicole <= 40\nPatricia    worktime_Patricia <= 40\nPatrick      worktime_Patrick <= 40\nRoberta      worktime_Roberta <= 40\nSuzanne      worktime_Suzanne <= 40\nVickie        worktime_Vickie <= 40\nWendie        worktime_Wendie <= 40\nZoe              worktime_Zoe <= 40\nName: worktime, dtype: object"
                    }, 
                    "execution_count": 28, 
                    "metadata": {}
                }
            ], 
            "execution_count": 28
        }, 
        {
            "source": "##### Minimum requirement for shifts\n\nEach shift requires a minimum number of nurses. \nFor each shift, the sum over all nurses of assignments to this shift\nmust be greater than the minimum requirement.\n\nThe *pandas* *groupby* operation is invoked to collect all assignment decision variables for each shift in a separate series. Then, we iterate over shifts to post the constraint enforcing the minimum number of nurse assignments for each shift.", 
            "cell_type": "markdown", 
            "metadata": {}
        }, 
        {
            "source": "# Use pandas' groupby operation to enforce minimum requirement constraint for each shift\nfor shift, shift_nurses in df_assigned.groupby(level='all_shifts'):\n    mdl.add_constraint(mdl.sum(shift_nurses.assigned) >= df_shifts.min_req[shift])", 
            "cell_type": "code", 
            "metadata": {}, 
            "outputs": [], 
            "execution_count": 29
        }, 
        {
            "source": "#### Express the objective\n\nThe objective mixes different (and contradictory) KPIs. \n\nThe first KPI is the total salary cost, computed as the sum of work times over all nurses, weighted by pay rate.\n\nWe compute this KPI as an expression from the variables we previously defined by using the panda summation over the DOcplex objects.", 
            "cell_type": "markdown", 
            "metadata": {}
        }, 
        {
            "source": "# again leverage pandas to create a series of expressions: costs of each nurse\ntotal_salary_series = df_nurses.worktime * df_nurses.pay_rate\n\n# compute global salary cost using pandas sum()\n# Note that the result is a DOcplex expression: DOcplex if fully compatible with pandas\ntotal_salary_cost = total_salary_series.sum()\nmdl.add_kpi(total_salary_cost, \"Total salary cost\")", 
            "cell_type": "code", 
            "metadata": {}, 
            "outputs": [
                {
                    "output_type": "execute_result", 
                    "data": {
                        "text/plain": "DecisionKPI(name=Total salary cost,expr=25worktime_Anne+28worktime_Bethanie+17worktime_Betsy+17worktime_..)"
                    }, 
                    "execution_count": 30, 
                    "metadata": {}
                }
            ], 
            "execution_count": 30
        }, 
        {
            "source": "##### Minimizing salary cost\n\nIn a preliminary version of the model, we minimize the total salary cost. This is accomplished\nusing the `Model.minimize()` method.", 
            "cell_type": "markdown", 
            "metadata": {}
        }, 
        {
            "source": "mdl.minimize(total_salary_cost)\nmdl.print_information()", 
            "cell_type": "code", 
            "metadata": {}, 
            "outputs": [
                {
                    "output_type": "stream", 
                    "name": "stdout", 
                    "text": "Model: nurses\n - number of variables: 1344\n   - binary=1312, integer=0, continuous=32\n - number of constraints: 1588\n   - linear=1588\n - parameters: defaults\n"
                }
            ], 
            "execution_count": 31
        }, 
        {
            "source": "#### Solve with the Decision Optimization solve service\n\nNow we have everything we need to solve the model, using `Model.solve()`. The following cell solves using your local CPLEX (if any, and provided you have added it to your `PYTHONPATH` variable). \nIf you do not have CPLEX installed, please enter your DOcplexcloud credentials below in the `key` and `url` fields in order to solve on DOcplexcloud.", 
            "cell_type": "markdown", 
            "metadata": {}
        }, 
        {
            "source": "# Set Cplex mipgap to 1e-5 to enforce precision to be of the order of a unit (objective value magnitude is ~1e+5).\nmdl.parameters.mip.tolerances.mipgap = 1e-5\n\ns = mdl.solve(url=url, key=key, log_output=True)\nassert s, \"solve failed\"\nmdl.report()", 
            "cell_type": "code", 
            "metadata": {}, 
            "outputs": [
                {
                    "output_type": "stream", 
                    "name": "stdout", 
                    "text": "[2018-04-18T02:38:36Z, INFO] CPLEX version 12070100\n[2018-04-18T02:38:36Z, INFO] Parameter file:\n[2018-04-18T02:38:36Z, INFO] # -- This content is generated by DOcplex\n[2018-04-18T02:38:36Z, INFO] CPLEX Parameter File Version 12.7.1.0\n[2018-04-18T02:38:36Z, INFO] CPX_PARAM_EPGAP                  0.00001000000000\n[2018-04-18T02:38:36Z, INFO] # --- end of generated prm data ---\n[2018-04-18T02:38:36Z, WARN] Changed parameter CPX_PARAM_THREADS from 0 to 10\n[2018-04-18T02:38:36Z, INFO] Param[1,067] = 10\n[2018-04-18T02:38:36Z, INFO] Param[1,130] = utf-8\n[2018-04-18T02:38:36Z, INFO] Param[1,132] = -1\n[2018-04-18T02:38:36Z, INFO] Param[2,009] = 0.000010000000000000000818030539140313095458623138256371021270751953125\n[2018-04-18T02:38:36Z, INFO] CPXPARAM_WorkDir                                 \"/var/job_processor/work/tmp/java/job6288670135385885701.tmp\"\n[2018-04-18T02:38:36Z, INFO] CPXPARAM_Threads                                 10\n[2018-04-18T02:38:36Z, INFO] CPXPARAM_Read_APIEncoding                        \"utf-8\"\n[2018-04-18T02:38:36Z, INFO] CPXPARAM_Output_CloneLog                         -1\n[2018-04-18T02:38:36Z, INFO] CPXPARAM_MIP_Tolerances_MIPGap                   1.0000000000000001e-05\n[2018-04-18T02:38:36Z, INFO] CPXPARAM_MIP_Strategy_CallbackReducedLP          0\n[2018-04-18T02:38:36Z, INFO] CPXPARAM_Output_IntSolFilePrefix                 \"/var/job_processor/work/tmp/java/job6288670135385885701.tmp/sol\"\n[2018-04-18T02:38:36Z, INFO] Tried aggregator 2 times.\n[2018-04-18T02:38:36Z, INFO] MIP Presolve eliminated 997 rows and 379 columns.\n[2018-04-18T02:38:36Z, INFO] MIP Presolve modified 90 coefficients.\n[2018-04-18T02:38:36Z, INFO] Aggregator did 41 substitutions.\n[2018-04-18T02:38:36Z, INFO] Reduced MIP has 550 rows, 922 columns, and 2862 nonzeros.\n[2018-04-18T02:38:36Z, INFO] Reduced MIP has 892 binaries, 0 generals, 0 SOSs, and 0 indicators.\n[2018-04-18T02:38:36Z, INFO] Presolve time = 0.01 sec. (3.45 ticks)\n[2018-04-18T02:38:36Z, INFO] Probing time = 0.00 sec. (0.50 ticks)\n[2018-04-18T02:38:36Z, INFO] Tried aggregator 1 time.\n[2018-04-18T02:38:36Z, INFO] Reduced MIP has 550 rows, 922 columns, and 2862 nonzeros.\n[2018-04-18T02:38:36Z, INFO] Reduced MIP has 892 binaries, 30 generals, 0 SOSs, and 0 indicators.\n[2018-04-18T02:38:36Z, INFO] Presolve time = 0.00 sec. (1.92 ticks)\n[2018-04-18T02:38:36Z, INFO] Probing time = 0.00 sec. (0.50 ticks)\n[2018-04-18T02:38:36Z, INFO] Clique table members: 479.\n[2018-04-18T02:38:36Z, INFO] MIP emphasis: balance optimality and feasibility.\n[2018-04-18T02:38:36Z, INFO] MIP search method: dynamic search.\n[2018-04-18T02:38:36Z, INFO] Parallel mode: deterministic, using up to 10 threads.\n[2018-04-18T02:38:36Z, INFO] Root relaxation solution time = 0.01 sec. (4.01 ticks)\n[2018-04-18T02:38:36Z, INFO] \n[2018-04-18T02:38:36Z, INFO]         Nodes                                         Cuts/\n[2018-04-18T02:38:36Z, INFO]    Node  Left     Objective  IInf  Best Integer    Best Bound    ItCnt     Gap\n[2018-04-18T02:38:36Z, INFO] \n[2018-04-18T02:38:36Z, INFO]       0     0    28824.0000    28                  28824.0000      467\n[2018-04-18T02:38:36Z, INFO]       0     0    28824.0000    46                    Cuts: 73      615\n[2018-04-18T02:38:36Z, INFO]       0     0    28824.0000    22                    Cuts: 32      658\n[2018-04-18T02:38:36Z, INFO]       0     0    28824.0000    38                    Cuts: 47      738\n[2018-04-18T02:38:36Z, INFO] *     0+    0                        29330.0000    28824.0000             1.73%\n[2018-04-18T02:38:36Z, INFO] *     0+    0                        29160.0000    28824.0000             1.15%\n[2018-04-18T02:38:36Z, INFO] *     0+    0                        29064.0000    28824.0000             0.83%\n[2018-04-18T02:38:36Z, INFO] *     0+    0                        28966.0000    28824.0000             0.49%\n[2018-04-18T02:38:36Z, INFO]       0     2    28824.0000    10    28966.0000    28824.0000      738    0.49%\n[2018-04-18T02:38:36Z, INFO] Elapsed time = 0.42 sec. (114.79 ticks, tree = 0.01 MB, solutions = 4)\n[2018-04-18T02:38:36Z, INFO] *    10+    1                        28936.0000    28824.0000             0.39%\n[2018-04-18T02:38:36Z, INFO] *    10+    2                        28934.0000    28824.0000             0.38%\n[2018-04-18T02:38:36Z, INFO] *    11+    2                        28902.0000    28824.0000             0.27%\n[2018-04-18T02:38:36Z, INFO] *    29+    5                        28856.0000    28824.0000             0.11%\n[2018-04-18T02:38:36Z, INFO] *  2050+ 1644                        28824.0000    28824.0000             0.00%\n[2018-04-18T02:38:36Z, INFO] \n[2018-04-18T02:38:36Z, INFO] GUB cover cuts applied:  18\n[2018-04-18T02:38:36Z, INFO] Cover cuts applied:  80\n[2018-04-18T02:38:37Z, INFO] Flow cuts applied:  9\n[2018-04-18T02:38:37Z, INFO] Mixed integer rounding cuts applied:  13\n[2018-04-18T02:38:37Z, INFO] Zero-half cuts applied:  12\n[2018-04-18T02:38:37Z, INFO] Lift and project cuts applied:  5\n[2018-04-18T02:38:37Z, INFO] Gomory fractional cuts applied:  2\n[2018-04-18T02:38:37Z, INFO] \n[2018-04-18T02:38:37Z, INFO] Root node processing (before b&c):\n[2018-04-18T02:38:37Z, INFO]   Real time             =    0.39 sec. (114.64 ticks)\n[2018-04-18T02:38:37Z, INFO] Parallel b&c, 10 threads:\n[2018-04-18T02:38:37Z, INFO]   Real time             =    0.49 sec. (172.06 ticks)\n[2018-04-18T02:38:37Z, INFO]   Sync time (average)   =    0.17 sec.\n[2018-04-18T02:38:37Z, INFO]   Wait time (average)   =    0.01 sec.\n[2018-04-18T02:38:37Z, INFO]                           ------------\n[2018-04-18T02:38:37Z, INFO] Total (root+branch&cut) =    0.88 sec. (286.69 ticks)\n[2018-04-18T02:38:37Z, INFO] Incumbent solution:\n[2018-04-18T02:38:37Z, INFO] MILP objective                                 2.8824000000e+04\n[2018-04-18T02:38:37Z, INFO] MILP solution norm |x| (Total, Max)            1.46800e+03  4.00000e+01\n[2018-04-18T02:38:37Z, INFO] MILP solution error (Ax=b) (Total, Max)        0.00000e+00  0.00000e+00\n[2018-04-18T02:38:37Z, INFO] MILP x bound error (Total, Max)                0.00000e+00  0.00000e+00\n[2018-04-18T02:38:37Z, INFO] MILP x integrality error (Total, Max)          0.00000e+00  0.00000e+00\n[2018-04-18T02:38:37Z, INFO] MILP slack bound error (Total, Max)            0.00000e+00  0.00000e+00\n[2018-04-18T02:38:37Z, INFO] integer optimal solution (101)\n* model nurses solved with objective = 28824.000\n*  KPI: Total salary cost = 28824.000\n"
                }
            ], 
            "execution_count": 32
        }, 
        {
            "source": "### Step 6: Investigate the solution and then run an example analysis\n\nWe take advantage of *pandas* to analyze the results. First we store the solution values of the assignment variables into a new *pandas* Series.\n\nCalling `solution_value` on a DOcplex variable returns its value in the solution (provided the model has been successfully solved).", 
            "cell_type": "markdown", 
            "metadata": {}
        }, 
        {
            "source": "# Create a pandas Series containing actual shift assignment decision variables value\ns_assigned = df_assigned.assigned.apply(lambda v: v.solution_value)\n\n# Create a pivot table by (nurses, shifts), using pandas' \"unstack\" method to transform the 'all_shifts' row index\n#  into columns\ndf_res = s_assigned.unstack(level='all_shifts')\n\n# Display the first few rows of the resulting pivot table\ndf_res.head()", 
            "cell_type": "code", 
            "metadata": {}, 
            "outputs": [
                {
                    "output_type": "execute_result", 
                    "data": {
                        "text/plain": "all_shifts  0   1   2   3   4   5   6   7   8   9  ...  31  32  33  34  35  \\\nall_nurses                                         ...                       \nAnne         0   0   0   0   1   0   0   1   0   0 ...   0   0   0   0   0   \nBethanie     1   0   0   0   1   0   0   1   0   0 ...   1   0   1   0   0   \nBetsy        0   0   0   0   0   0   0   0   1   0 ...   0   1   0   0   1   \nCathy        0   0   0   1   1   0   0   1   0   0 ...   0   1   1   0   0   \nCecilia      0   0   0   0   0   0   1   0   0   0 ...   0   0   0   0   1   \n\nall_shifts  36  37  38  39  40  \nall_nurses                      \nAnne         0   0   0   0   0  \nBethanie     0   0   0   0   0  \nBetsy        0   0   0   0   0  \nCathy        1   0   0   0   1  \nCecilia      0   0   0   0   0  \n\n[5 rows x 41 columns]", 
                        "text/html": "<div>\n<table border=\"1\" class=\"dataframe\">\n  <thead>\n    <tr style=\"text-align: right;\">\n      <th>all_shifts</th>\n      <th>0</th>\n      <th>1</th>\n      <th>2</th>\n      <th>3</th>\n      <th>4</th>\n      <th>5</th>\n      <th>6</th>\n      <th>7</th>\n      <th>8</th>\n      <th>9</th>\n      <th>...</th>\n      <th>31</th>\n      <th>32</th>\n      <th>33</th>\n      <th>34</th>\n      <th>35</th>\n      <th>36</th>\n      <th>37</th>\n      <th>38</th>\n      <th>39</th>\n      <th>40</th>\n    </tr>\n    <tr>\n      <th>all_nurses</th>\n      <th></th>\n      <th></th>\n      <th></th>\n      <th></th>\n      <th></th>\n      <th></th>\n      <th></th>\n      <th></th>\n      <th></th>\n      <th></th>\n      <th></th>\n      <th></th>\n      <th></th>\n      <th></th>\n      <th></th>\n      <th></th>\n      <th></th>\n      <th></th>\n      <th></th>\n      <th></th>\n      <th></th>\n    </tr>\n  </thead>\n  <tbody>\n    <tr>\n      <th>Anne</th>\n      <td>0</td>\n      <td>0</td>\n      <td>0</td>\n      <td>0</td>\n      <td>1</td>\n      <td>0</td>\n      <td>0</td>\n      <td>1</td>\n      <td>0</td>\n      <td>0</td>\n      <td>...</td>\n      <td>0</td>\n      <td>0</td>\n      <td>0</td>\n      <td>0</td>\n      <td>0</td>\n      <td>0</td>\n      <td>0</td>\n      <td>0</td>\n      <td>0</td>\n      <td>0</td>\n    </tr>\n    <tr>\n      <th>Bethanie</th>\n      <td>1</td>\n      <td>0</td>\n      <td>0</td>\n      <td>0</td>\n      <td>1</td>\n      <td>0</td>\n      <td>0</td>\n      <td>1</td>\n      <td>0</td>\n      <td>0</td>\n      <td>...</td>\n      <td>1</td>\n      <td>0</td>\n      <td>1</td>\n      <td>0</td>\n      <td>0</td>\n      <td>0</td>\n      <td>0</td>\n      <td>0</td>\n      <td>0</td>\n      <td>0</td>\n    </tr>\n    <tr>\n      <th>Betsy</th>\n      <td>0</td>\n      <td>0</td>\n      <td>0</td>\n      <td>0</td>\n      <td>0</td>\n      <td>0</td>\n      <td>0</td>\n      <td>0</td>\n      <td>1</td>\n      <td>0</td>\n      <td>...</td>\n      <td>0</td>\n      <td>1</td>\n      <td>0</td>\n      <td>0</td>\n      <td>1</td>\n      <td>0</td>\n      <td>0</td>\n      <td>0</td>\n      <td>0</td>\n      <td>0</td>\n    </tr>\n    <tr>\n      <th>Cathy</th>\n      <td>0</td>\n      <td>0</td>\n      <td>0</td>\n      <td>1</td>\n      <td>1</td>\n      <td>0</td>\n      <td>0</td>\n      <td>1</td>\n      <td>0</td>\n      <td>0</td>\n      <td>...</td>\n      <td>0</td>\n      <td>1</td>\n      <td>1</td>\n      <td>0</td>\n      <td>0</td>\n      <td>1</td>\n      <td>0</td>\n      <td>0</td>\n      <td>0</td>\n      <td>1</td>\n    </tr>\n    <tr>\n      <th>Cecilia</th>\n      <td>0</td>\n      <td>0</td>\n      <td>0</td>\n      <td>0</td>\n      <td>0</td>\n      <td>0</td>\n      <td>1</td>\n      <td>0</td>\n      <td>0</td>\n      <td>0</td>\n      <td>...</td>\n      <td>0</td>\n      <td>0</td>\n      <td>0</td>\n      <td>0</td>\n      <td>1</td>\n      <td>0</td>\n      <td>0</td>\n      <td>0</td>\n      <td>0</td>\n      <td>0</td>\n    </tr>\n  </tbody>\n</table>\n<p>5 rows \u00d7 41 columns</p>\n</div>"
                    }, 
                    "execution_count": 33, 
                    "metadata": {}
                }
            ], 
            "execution_count": 33
        }, 
        {
            "source": "#### Analyzing how worktime is distributed\n\nLet's analyze how worktime is distributed among nurses. \n\nFirst, we compute the global average work time as the total minimum requirement in hours, divided by number of nurses.", 
            "cell_type": "markdown", 
            "metadata": {}
        }, 
        {
            "source": "s_demand  = df_shifts.min_req * df_shifts.duration\ntotal_demand = s_demand.sum()\navg_worktime = total_demand / float(len(all_nurses))\nprint(\"* theoretical average work time is {0:g} h\".format(avg_worktime))", 
            "cell_type": "code", 
            "metadata": {}, 
            "outputs": [
                {
                    "output_type": "stream", 
                    "name": "stdout", 
                    "text": "* theoretical average work time is 39 h\n"
                }
            ], 
            "execution_count": 34
        }, 
        {
            "source": "Let's analyze the series of deviations to the average, stored in a *pandas* Series.", 
            "cell_type": "markdown", 
            "metadata": {}
        }, 
        {
            "source": "# a pandas series of worktimes solution values\ns_worktime = df_nurses.worktime.apply(lambda v: v.solution_value)\n\n# returns a new series computed as deviation from average\ns_to_mean = s_worktime - avg_worktime\n\n# take the absolute value\ns_abs_to_mean = s_to_mean.apply(abs)\n\n\ntotal_to_mean = s_abs_to_mean.sum()\nprint(\"* the sum of absolute deviations from mean is {}\".format(total_to_mean))", 
            "cell_type": "code", 
            "metadata": {}, 
            "outputs": [
                {
                    "output_type": "stream", 
                    "name": "stdout", 
                    "text": "* the sum of absolute deviations from mean is 58.0\n"
                }
            ], 
            "execution_count": 35
        }, 
        {
            "source": "To see how work time is distributed among nurses, print a histogram of work time values.\nNote that, as all time data are integers, work times in the solution can take only integer values.", 
            "cell_type": "markdown", 
            "metadata": {}
        }, 
        {
            "source": "import matplotlib.pyplot as plt\n%matplotlib inline\n\n# we can also plot as a histogram the distribution of worktimes\ns_worktime.plot.hist(color='LightBlue')\nplt.xlabel(\"worktime\")", 
            "cell_type": "code", 
            "metadata": {}, 
            "outputs": [
                {
                    "output_type": "execute_result", 
                    "data": {
                        "text/plain": "<matplotlib.text.Text at 0x7fcbbea4c4d0>"
                    }, 
                    "execution_count": 37, 
                    "metadata": {}
                }, 
                {
                    "output_type": "display_data", 
                    "data": {
                        "image/png": "[encoded data removed]", 
                        "text/plain": "<matplotlib.figure.Figure at 0x7fcbc1a01d10>"
                    }, 
                    "metadata": {}
                }
            ], 
            "execution_count": 37
        }, 
        {
            "source": "#### How shifts are distributed\n\nLet's now analyze the solution from the _number of shifts_ perspective.\nHow many shifts does each nurse work? Are these shifts fairly distributed amongst nurses?\n\nWe compute a new column in our result DataFrame for the number of shifts worked,\nby summing rows (the *\"axis=1\"* argument in the *sum()* call indicates to *pandas* that each sum is performed by row instead of column):", 
            "cell_type": "markdown", 
            "metadata": {}
        }, 
        {
            "source": "# a pandas series of #shifts worked\ndf_worked = df_res[all_shifts].sum(axis=1)\ndf_res[\"worked\"] = df_worked\n\ndf_worked.plot.hist(color=\"gold\", xlim=(0,10))\nplt.ylabel(\"#shifts worked\")", 
            "cell_type": "code", 
            "metadata": {}, 
            "outputs": [
                {
                    "output_type": "execute_result", 
                    "data": {
                        "text/plain": "<matplotlib.text.Text at 0x7fcbbe854b90>"
                    }, 
                    "execution_count": 38, 
                    "metadata": {}
                }, 
                {
                    "output_type": "display_data", 
                    "data": {
                        "image/png": "[encoded data removed]", 
                        "text/plain": "<matplotlib.figure.Figure at 0x7fcbc706fad0>"
                    }, 
                    "metadata": {}
                }
            ], 
            "execution_count": 38
        }, 
        {
            "source": "We see that one nurse works significantly fewer shifts than others do. What is the average number of shifts worked by a nurse? This is equal to the total demand divided by the number of nurses.\n\nOf course, this yields a fractional number of shifts that is not practical, but nonetheless will help us quantify\nthe _fairness_ in shift distribution.", 
            "cell_type": "markdown", 
            "metadata": {}
        }, 
        {
            "source": "avg_worked = df_shifts[\"min_req\"].sum() / float(len(all_nurses))\nprint(\"-- expected avg #shifts worked is {}\".format(avg_worked))\n\nworked_to_avg = df_res[\"worked\"] - avg_worked\ntotal_to_mean = worked_to_avg.apply(abs).sum()\nprint(\"-- total absolute deviation to mean #shifts is {}\".format(total_to_mean))", 
            "cell_type": "code", 
            "metadata": {}, 
            "outputs": [
                {
                    "output_type": "stream", 
                    "name": "stdout", 
                    "text": "-- expected avg #shifts worked is 6.875\n-- total absolute deviation to mean #shifts is 22.0\n"
                }
            ], 
            "execution_count": 39
        }, 
        {
            "source": "### Introducing a fairness goal\n\nAs the above diagram suggests, the distribution of shifts could be improved.\nWe implement this by adding one extra objective, _fairness_, which balances\nthe shifts assigned over nurses.\n\nNote that we can edit the model, that  is add (or remove) constraints, even after it has been solved. \n\n### Step #1 : Introduce three new variables per nurse to model the \nnumber of shifts worked and positive and negative deviations to the average.", 
            "cell_type": "markdown", 
            "metadata": {}
        }, 
        {
            "source": "# add two extra variables per nurse: deviations above and below average\ndf_nurses[\"worked\"]      = df_nurses.apply(lambda r: make_var(r, \"worked%s\"), axis=1)\ndf_nurses[\"overworked\"]  = df_nurses.apply(lambda r: make_var(r, \"overw_%s\"), axis=1)\ndf_nurses[\"underworked\"] = df_nurses.apply(lambda r: make_var(r, \"underw_%s\"), axis=1)", 
            "cell_type": "code", 
            "metadata": {}, 
            "outputs": [], 
            "execution_count": 40
        }, 
        {
            "source": "### Step #2 : Post the constraint that links these variables together.", 
            "cell_type": "markdown", 
            "metadata": {}
        }, 
        {
            "source": "# Use the pandas groupby operation to enforce the constraint calculating number of worked shifts for each nurse\nfor nurse, nurse_assignments in df_assigned.groupby(level='all_nurses'):\n    # nb of worked shifts is sum of assigned shifts\n    mdl.add_constraint(df_nurses.worked[nurse] == mdl.sum(nurse_assignments.assigned))\n\nfor nurse in df_nurses.itertuples():\n    # nb worked is average + over - under\n    mdl.add_constraint(nurse.worked == avg_worked + nurse.overworked - nurse.underworked)", 
            "cell_type": "code", 
            "metadata": {}, 
            "outputs": [], 
            "execution_count": 41
        }, 
        {
            "source": "### Step #3 : Define KPIs to measure the result after solve.", 
            "cell_type": "markdown", 
            "metadata": {}
        }, 
        {
            "source": "# finally, define kpis for over and under average quantities\ntotal_overw = mdl.sum(df_nurses[\"overworked\"])\nmdl.add_kpi(total_overw, \"Total over-worked\")\ntotal_underw = mdl.sum(df_nurses[\"underworked\"])\nmdl.add_kpi(total_underw, \"Total under-worked\")", 
            "cell_type": "code", 
            "metadata": {}, 
            "outputs": [
                {
                    "output_type": "execute_result", 
                    "data": {
                        "text/plain": "DecisionKPI(name=Total under-worked,expr=underw_Anne+underw_Bethanie+underw_Betsy+underw_Cathy+underw_Cec..)"
                    }, 
                    "execution_count": 42, 
                    "metadata": {}
                }
            ], 
            "execution_count": 42
        }, 
        {
            "source": "Finally, let's modify the objective by adding the sum of `over_worked and under_worked` to the previous objective.\n\n**Note:** The definitions of `over_worked` and `under_worked` as described above are not sufficient to give them an unambiguous value. However, as all these variables are minimized, CPLEX ensures that these variables take the minimum possible values in the solution.", 
            "cell_type": "markdown", 
            "metadata": {}
        }, 
        {
            "source": "mdl.minimize(total_salary_cost + total_overw + total_underw)  # incorporate over_worked and under_worked in objective", 
            "cell_type": "code", 
            "metadata": {}, 
            "outputs": [], 
            "execution_count": 43
        }, 
        {
            "source": "Our modified model is ready to solve. Again, enter your DOcplexcloud `url` and `api_key` in the appropriate fields below to solve on DOcplexcloud if you do not have a local CPLEX installation.\n\nThe `log_output=True` parameter tells CPLEX to print the log on the standard output.", 
            "cell_type": "markdown", 
            "metadata": {}
        }, 
        {
            "source": "sol2 = mdl.solve(url=url, key=key, log_output=True)  # solve again and get a new solution\nassert sol2, \"Solve failed\"\nmdl.report()", 
            "cell_type": "code", 
            "metadata": {}, 
            "outputs": [
                {
                    "output_type": "stream", 
                    "name": "stdout", 
                    "text": "[2018-04-18T02:40:14Z, INFO] CPLEX version 12070100\n[2018-04-18T02:40:14Z, INFO] Parameter file:\n[2018-04-18T02:40:14Z, INFO] # -- This content is generated by DOcplex\n[2018-04-18T02:40:14Z, INFO] CPLEX Parameter File Version 12.7.1.0\n[2018-04-18T02:40:14Z, INFO] CPX_PARAM_EPGAP                  0.00001000000000\n[2018-04-18T02:40:14Z, INFO] # --- end of generated prm data ---\n[2018-04-18T02:40:14Z, WARN] Changed parameter CPX_PARAM_THREADS from 0 to 10\n[2018-04-18T02:40:14Z, INFO] Param[1,067] = 10\n[2018-04-18T02:40:14Z, INFO] Param[1,130] = utf-8\n[2018-04-18T02:40:14Z, INFO] Param[1,132] = -1\n[2018-04-18T02:40:14Z, INFO] Param[2,009] = 0.000010000000000000000818030539140313095458623138256371021270751953125\n[2018-04-18T02:40:14Z, INFO] CPXPARAM_WorkDir                                 \"/var/job_processor/work/tmp/java/job3487210968555136138.tmp\"\n[2018-04-18T02:40:14Z, INFO] CPXPARAM_Threads                                 10\n[2018-04-18T02:40:14Z, INFO] CPXPARAM_Read_APIEncoding                        \"utf-8\"\n[2018-04-18T02:40:14Z, INFO] CPXPARAM_Output_CloneLog                         -1\n[2018-04-18T02:40:14Z, INFO] CPXPARAM_MIP_Tolerances_MIPGap                   1.0000000000000001e-05\n[2018-04-18T02:40:14Z, INFO] CPXPARAM_MIP_Strategy_CallbackReducedLP          0\n[2018-04-18T02:40:14Z, INFO] CPXPARAM_Output_IntSolFilePrefix                 \"/var/job_processor/work/tmp/java/job3487210968555136138.tmp/sol\"\n[2018-04-18T02:40:14Z, INFO] Tried aggregator 2 times.\n[2018-04-18T02:40:14Z, INFO] MIP Presolve eliminated 997 rows and 379 columns.\n[2018-04-18T02:40:14Z, INFO] MIP Presolve modified 90 coefficients.\n[2018-04-18T02:40:14Z, INFO] Aggregator did 73 substitutions.\n[2018-04-18T02:40:14Z, INFO] Reduced MIP has 582 rows, 986 columns, and 3859 nonzeros.\n[2018-04-18T02:40:14Z, INFO] Reduced MIP has 892 binaries, 0 generals, 0 SOSs, and 0 indicators.\n[2018-04-18T02:40:14Z, INFO] Presolve time = 0.01 sec. (4.07 ticks)\n[2018-04-18T02:40:14Z, INFO] Probing time = 0.00 sec. (0.59 ticks)\n[2018-04-18T02:40:14Z, INFO] Tried aggregator 1 time.\n[2018-04-18T02:40:14Z, INFO] MIP Presolve eliminated 2 rows and 4 columns.\n[2018-04-18T02:40:14Z, INFO] Reduced MIP has 580 rows, 982 columns, and 3814 nonzeros.\n[2018-04-18T02:40:14Z, INFO] Reduced MIP has 892 binaries, 30 generals, 0 SOSs, and 0 indicators.\n[2018-04-18T02:40:14Z, INFO] Presolve time = 0.00 sec. (2.29 ticks)\n[2018-04-18T02:40:14Z, INFO] Probing time = 0.00 sec. (0.58 ticks)\n[2018-04-18T02:40:14Z, INFO] Clique table members: 479.\n[2018-04-18T02:40:14Z, INFO] MIP emphasis: balance optimality and feasibility.\n[2018-04-18T02:40:14Z, INFO] MIP search method: dynamic search.\n[2018-04-18T02:40:14Z, INFO] Parallel mode: deterministic, using up to 10 threads.\n[2018-04-18T02:40:14Z, INFO] Root relaxation solution time = 0.02 sec. (10.38 ticks)\n[2018-04-18T02:40:14Z, INFO] \n[2018-04-18T02:40:14Z, INFO]         Nodes                                         Cuts/\n[2018-04-18T02:40:14Z, INFO]    Node  Left     Objective  IInf  Best Integer    Best Bound    ItCnt     Gap\n[2018-04-18T02:40:14Z, INFO] \n[2018-04-18T02:40:14Z, INFO]       0     0    28827.9167    84                  28827.9167      840\n[2018-04-18T02:40:14Z, INFO]       0     0    28829.0661    76                    Cuts: 82     1018\n[2018-04-18T02:40:14Z, INFO]       0     0    28830.3437    37                   Cuts: 124     1188\n[2018-04-18T02:40:14Z, INFO]       0     0    28831.0000    27                    Cuts: 39     1258\n[2018-04-18T02:40:14Z, INFO]       0     0    28831.0000    27                    Cuts: 30     1324\n[2018-04-18T02:40:14Z, INFO] *     0+    0                        28977.0000    28831.0000             0.50%\n[2018-04-18T02:40:14Z, INFO]       0     0    28831.0000     6    28977.0000       Cuts: 9     1352    0.50%\n[2018-04-18T02:40:14Z, INFO]       0     0    28831.0000     6    28977.0000      Cuts: 14     1380    0.50%\n[2018-04-18T02:40:14Z, INFO] *     0+    0                        28919.0000    28831.0000             0.30%\n[2018-04-18T02:40:14Z, INFO] *     0+    0                        28831.0000    28831.0000             0.00%\n[2018-04-18T02:40:14Z, INFO]       0     0        cutoff          28831.0000    28831.0000     1380    0.00%\n[2018-04-18T02:40:14Z, INFO] Elapsed time = 0.52 sec. (142.24 ticks, tree = 0.01 MB, solutions = 3)\n[2018-04-18T02:40:14Z, INFO] \n[2018-04-18T02:40:14Z, INFO] GUB cover cuts applied:  32\n[2018-04-18T02:40:14Z, INFO] Cover cuts applied:  2\n[2018-04-18T02:40:14Z, INFO] Flow cuts applied:  19\n[2018-04-18T02:40:14Z, INFO] Mixed integer rounding cuts applied:  64\n[2018-04-18T02:40:14Z, INFO] Zero-half cuts applied:  29\n[2018-04-18T02:40:14Z, INFO] Lift and project cuts applied:  4\n[2018-04-18T02:40:14Z, INFO] Gomory fractional cuts applied:  7\n[2018-04-18T02:40:14Z, INFO] \n[2018-04-18T02:40:14Z, INFO] Root node processing (before b&c):\n[2018-04-18T02:40:14Z, INFO]   Real time             =    0.52 sec. (142.34 ticks)\n[2018-04-18T02:40:14Z, INFO] Parallel b&c, 10 threads:\n[2018-04-18T02:40:14Z, INFO]   Real time             =    0.00 sec. (0.00 ticks)\n[2018-04-18T02:40:14Z, INFO]   Sync time (average)   =    0.00 sec.\n[2018-04-18T02:40:14Z, INFO]   Wait time (average)   =    0.00 sec.\n[2018-04-18T02:40:14Z, INFO]                           ------------\n[2018-04-18T02:40:14Z, INFO] Total (root+branch&cut) =    0.52 sec. (142.34 ticks)\n[2018-04-18T02:40:15Z, INFO] Incumbent solution:\n[2018-04-18T02:40:15Z, INFO] MILP objective                                 2.8831000000e+04\n[2018-04-18T02:40:15Z, INFO] MILP solution norm |x| (Total, Max)            1.69500e+03  4.00000e+01\n[2018-04-18T02:40:15Z, INFO] MILP solution error (Ax=b) (Total, Max)        0.00000e+00  0.00000e+00\n[2018-04-18T02:40:15Z, INFO] MILP x bound error (Total, Max)                0.00000e+00  0.00000e+00\n[2018-04-18T02:40:15Z, INFO] MILP x integrality error (Total, Max)          0.00000e+00  0.00000e+00\n[2018-04-18T02:40:15Z, INFO] MILP slack bound error (Total, Max)            0.00000e+00  0.00000e+00\n[2018-04-18T02:40:15Z, INFO] integer optimal solution (101)\n* model nurses solved with objective = 28831.000\n*  KPI: Total salary cost  = 28824.000\n*  KPI: Total over-worked  = 3.500\n*  KPI: Total under-worked = 3.500\n"
                }
            ], 
            "execution_count": 44
        }, 
        {
            "source": "### Analyzing new results\n\nLet's recompute the new total deviation from average on this new solution.", 
            "cell_type": "markdown", 
            "metadata": {}
        }, 
        {
            "source": "# Create a pandas Series containing actual shift assignment decision variables value\ns_assigned2 = df_assigned.assigned.apply(lambda v: v.solution_value)\n\n# Create a pivot table by (nurses, shifts), using pandas' \"unstack\" method to transform the 'all_shifts' row index\n#  into columns\ndf_res2 = s_assigned2.unstack(level='all_shifts')\n\n# Add a new column to the pivot table containing the #shifts worked by summing over each row\ndf_res2[\"worked\"] = df_res2[all_shifts].sum(axis=1)\n\n# total absolute deviation from average is directly read on expressions\nnew_total_to_mean = total_overw.solution_value + total_underw.solution_value\nprint(\"-- total absolute deviation to mean #shifts is now {0} down from {1}\".format(new_total_to_mean, total_to_mean))\n\n# Display the first few rows of the result Data Frame\ndf_res2.head()", 
            "cell_type": "code", 
            "metadata": {}, 
            "outputs": [
                {
                    "output_type": "stream", 
                    "name": "stdout", 
                    "text": "-- total absolute deviation to mean #shifts is now 7.0 down from 22.0\n"
                }, 
                {
                    "output_type": "execute_result", 
                    "data": {
                        "text/plain": "all_shifts  0  1  2  3  4  5  6  7  8  9   ...    32  33  34  35  36  37  38  \\\nall_nurses                                 ...                                 \nAnne        0  0  1  0  0  0  1  0  0  0   ...     0   0   0   0   0   0   0   \nBethanie    1  0  0  0  0  1  1  0  0  0   ...     0   1   0   0   0   0   0   \nBetsy       0  0  0  0  0  0  0  0  0  0   ...     0   1   0   0   1   0   0   \nCathy       0  0  0  0  1  0  0  1  0  0   ...     0   0   0   1   1   0   0   \nCecilia     0  0  0  0  0  1  1  0  1  0   ...     0   0   0   0   0   0   0   \n\nall_shifts  39  40  worked  \nall_nurses                  \nAnne         0   0       7  \nBethanie     0   0       7  \nBetsy        0   0       7  \nCathy        1   0       7  \nCecilia      1   0       6  \n\n[5 rows x 42 columns]", 
                        "text/html": "<div>\n<table border=\"1\" class=\"dataframe\">\n  <thead>\n    <tr style=\"text-align: right;\">\n      <th>all_shifts</th>\n      <th>0</th>\n      <th>1</th>\n      <th>2</th>\n      <th>3</th>\n      <th>4</th>\n      <th>5</th>\n      <th>6</th>\n      <th>7</th>\n      <th>8</th>\n      <th>9</th>\n      <th>...</th>\n      <th>32</th>\n      <th>33</th>\n      <th>34</th>\n      <th>35</th>\n      <th>36</th>\n      <th>37</th>\n      <th>38</th>\n      <th>39</th>\n      <th>40</th>\n      <th>worked</th>\n    </tr>\n    <tr>\n      <th>all_nurses</th>\n      <th></th>\n      <th></th>\n      <th></th>\n      <th></th>\n      <th></th>\n      <th></th>\n      <th></th>\n      <th></th>\n      <th></th>\n      <th></th>\n      <th></th>\n      <th></th>\n      <th></th>\n      <th></th>\n      <th></th>\n      <th></th>\n      <th></th>\n      <th></th>\n      <th></th>\n      <th></th>\n      <th></th>\n    </tr>\n  </thead>\n  <tbody>\n    <tr>\n      <th>Anne</th>\n      <td>0</td>\n      <td>0</td>\n      <td>1</td>\n      <td>0</td>\n      <td>0</td>\n      <td>0</td>\n      <td>1</td>\n      <td>0</td>\n      <td>0</td>\n      <td>0</td>\n      <td>...</td>\n      <td>0</td>\n      <td>0</td>\n      <td>0</td>\n      <td>0</td>\n      <td>0</td>\n      <td>0</td>\n      <td>0</td>\n      <td>0</td>\n      <td>0</td>\n      <td>7</td>\n    </tr>\n    <tr>\n      <th>Bethanie</th>\n      <td>1</td>\n      <td>0</td>\n      <td>0</td>\n      <td>0</td>\n      <td>0</td>\n      <td>1</td>\n      <td>1</td>\n      <td>0</td>\n      <td>0</td>\n      <td>0</td>\n      <td>...</td>\n      <td>0</td>\n      <td>1</td>\n      <td>0</td>\n      <td>0</td>\n      <td>0</td>\n      <td>0</td>\n      <td>0</td>\n      <td>0</td>\n      <td>0</td>\n      <td>7</td>\n    </tr>\n    <tr>\n      <th>Betsy</th>\n      <td>0</td>\n      <td>0</td>\n      <td>0</td>\n      <td>0</td>\n      <td>0</td>\n      <td>0</td>\n      <td>0</td>\n      <td>0</td>\n      <td>0</td>\n      <td>0</td>\n      <td>...</td>\n      <td>0</td>\n      <td>1</td>\n      <td>0</td>\n      <td>0</td>\n      <td>1</td>\n      <td>0</td>\n      <td>0</td>\n      <td>0</td>\n      <td>0</td>\n      <td>7</td>\n    </tr>\n    <tr>\n      <th>Cathy</th>\n      <td>0</td>\n      <td>0</td>\n      <td>0</td>\n      <td>0</td>\n      <td>1</td>\n      <td>0</td>\n      <td>0</td>\n      <td>1</td>\n      <td>0</td>\n      <td>0</td>\n      <td>...</td>\n      <td>0</td>\n      <td>0</td>\n      <td>0</td>\n      <td>1</td>\n      <td>1</td>\n      <td>0</td>\n      <td>0</td>\n      <td>1</td>\n      <td>0</td>\n      <td>7</td>\n    </tr>\n    <tr>\n      <th>Cecilia</th>\n      <td>0</td>\n      <td>0</td>\n      <td>0</td>\n      <td>0</td>\n      <td>0</td>\n      <td>1</td>\n      <td>1</td>\n      <td>0</td>\n      <td>1</td>\n      <td>0</td>\n      <td>...</td>\n      <td>0</td>\n      <td>0</td>\n      <td>0</td>\n      <td>0</td>\n      <td>0</td>\n      <td>0</td>\n      <td>0</td>\n      <td>1</td>\n      <td>0</td>\n      <td>6</td>\n    </tr>\n  </tbody>\n</table>\n<p>5 rows \u00d7 42 columns</p>\n</div>"
                    }, 
                    "execution_count": 45, 
                    "metadata": {}
                }
            ], 
            "execution_count": 45
        }, 
        {
            "source": "Let's print the new histogram of shifts worked.", 
            "cell_type": "markdown", 
            "metadata": {}
        }, 
        {
            "source": "df_res2[\"worked\"].plot(kind=\"hist\", color=\"gold\", xlim=(3,8))", 
            "cell_type": "code", 
            "metadata": {}, 
            "outputs": [
                {
                    "output_type": "execute_result", 
                    "data": {
                        "text/plain": "<matplotlib.axes._subplots.AxesSubplot at 0x7fcbbe888150>"
                    }, 
                    "execution_count": 46, 
                    "metadata": {}
                }, 
                {
                    "output_type": "display_data", 
                    "data": {
                        "image/png": "[encoded data removed]", 
                        "text/plain": "<matplotlib.figure.Figure at 0x7fcbbe77dc10>"
                    }, 
                    "metadata": {}
                }
            ], 
            "execution_count": 46
        }, 
        {
            "source": "##### The breakdown of shifts over nurses is much closer to the average than it was in the previous version.", 
            "cell_type": "markdown", 
            "metadata": {}
        }, 
        {
            "source": "### But what would be the minimal fairness level?\n\nBut what is the absolute minimum for the deviation to the ideal average number of shifts?\nCPLEX can tell us: simply minimize only the the total deviation from average, ignoring the salary cost.\nOf course this is unrealistic, but it will help us quantify how far our fairness result is to the\nabsolute optimal fairness.\n\nWe modify the objective and solve for the third time (using the usual necessary update for DOcplexcloud credentials).", 
            "cell_type": "markdown", 
            "metadata": {}
        }, 
        {
            "source": "mdl.minimize(total_overw + total_underw)\nassert mdl.solve(url=url, key=key), \"solve failed\"\nmdl.report()", 
            "cell_type": "code", 
            "metadata": {}, 
            "outputs": [
                {
                    "output_type": "stream", 
                    "name": "stdout", 
                    "text": "* model nurses solved with objective = 4.000\n*  KPI: Total salary cost  = 29594.000\n*  KPI: Total over-worked  = 4.000\n*  KPI: Total under-worked = 0.000\n"
                }
            ], 
            "execution_count": 47
        }, 
        {
            "source": "In the fairness-optimal solution, we have zero under-average shifts and 4 over-average.\nSalary cost is now higher than the previous value of 28884 but this was expected as salary cost was not part of the objective.\n\nTo summarize, the absolute minimum for this measure of fairness is 4, and we have found a balance with fairness=7.\n\nFinally, we display the histogram for this optimal-fairness solution.", 
            "cell_type": "markdown", 
            "metadata": {}
        }, 
        {
            "source": "# Create a pandas Series containing actual shift assignment decision variables value\ns_assigned_fair = df_assigned.assigned.apply(lambda v: v.solution_value)\n\n# Create a pivot table by (nurses, shifts), using pandas' \"unstack\" method to transform the 'all_shifts' row index\n#  into columns\ndf_res_fair = s_assigned_fair.unstack(level='all_shifts')\n\n# Add a new column to the pivot table containing the #shifts worked by summing over each row\ndf_res_fair[\"solution_value_fair\"] = df_res_fair[all_shifts].sum(axis=1)\ndf_res_fair[\"worked\"] = df_res_fair[all_shifts].sum(axis=1)\ndf_res_fair[\"worked\"].plot.hist(color=\"plum\", xlim=(3,8))", 
            "cell_type": "code", 
            "metadata": {}, 
            "outputs": [
                {
                    "output_type": "execute_result", 
                    "data": {
                        "text/plain": "<matplotlib.axes._subplots.AxesSubplot at 0x7fcbbe4f6e90>"
                    }, 
                    "execution_count": 48, 
                    "metadata": {}
                }, 
                {
                    "output_type": "display_data", 
                    "data": {
                        "image/png": "[encoded data removed]", 
                        "text/plain": "<matplotlib.figure.Figure at 0x7fcbbe705b10>"
                    }, 
                    "metadata": {}
                }
            ], 
            "execution_count": 48
        }, 
        {
            "source": "In the above figure, all nurses but one are assigned the average of 7 shifts, which is what we expected.\n\n## Summary\n\nYou learned how to set up and use IBM Decision Optimization CPLEX Modeling for Python to formulate a Mathematical Programming model and solve it with IBM Decision Optimization on Cloud.", 
            "cell_type": "markdown", 
            "metadata": {}
        }, 
        {
            "source": "## Author\n\n<b>Vincent Beraudier</b> is Software Architect and Program Manager for Prescriptive Analytics and Decision Optimization in IBM Analytics. With IBM and ILOG for more than 16 years, he has been responsible for optimization model development tools: OPL and DOcplex. OPL, the Optimization Programming Language, provides a natural mathematical description of optimization models. DOcplex, IBM's CPLEX modeling for Python offering, is an open source project that aims at leveraging the scientific ecosystem of Python and Jupyter/Zeppeling Notebooks. It can solve Optimization Mathematical Programming models with CPLEX cloud service (DOcplexcloud) or with CPLEX local solver, without any code change.", 
            "cell_type": "markdown", 
            "metadata": {}
        }, 
        {
            "source": "## References\n <a href=\"https://rawgit.com/IBMDecisionOptimization/docplex-doc/master/docs/index.html\" target=\"_blank\" rel=\"noopener noreferrer\">CPLEX Modeling for Python documentation</a>\n* <a href=\"https://developer.ibm.com/docloud/\" target=\"_blank\" rel=\"noopener noreferrer\">Decision Optimization on Cloud</a>\n* Need help with DOcplex or to report a bug? Please go <a href=\"https://developer.ibm.com/answers/smartspace/docloud\" target=\"_blank\" rel=\"noopener noreferrer\">here</a>.\n* Contact us at dofeedback@wwpdl.vnet.ibm.com.", 
            "cell_type": "markdown", 
            "metadata": {}
        }, 
        {
            "source": "Copyright \u00a9 2017, 2018 IBM. This notebook and its source code are released under the terms of the MIT License.", 
            "cell_type": "markdown", 
            "metadata": {}
        }
    ], 
    "metadata": {
        "kernelspec": {
            "display_name": "Python 2 with Spark 2.1", 
            "name": "python2-spark21", 
            "language": "python"
        }, 
        "language_info": {
            "mimetype": "text/x-python", 
            "nbconvert_exporter": "python", 
            "version": "2.7.11", 
            "name": "python", 
            "pygments_lexer": "ipython2", 
            "file_extension": ".py", 
            "codemirror_mode": {
                "version": 2, 
                "name": "ipython"
            }
        }
    }, 
    "nbformat": 4
}